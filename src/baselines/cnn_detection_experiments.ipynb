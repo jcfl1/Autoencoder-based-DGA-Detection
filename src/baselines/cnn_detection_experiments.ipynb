{
 "cells": [
  {
   "cell_type": "code",
   "execution_count": 1,
   "metadata": {},
   "outputs": [],
   "source": [
    "from cnn import CNNModel\n",
    "import pandas as pd\n",
    "import numpy as np\n",
    "import random\n",
    "import matplotlib.pyplot as plt\n",
    "from sklearn.metrics import roc_curve\n",
    "import torch\n",
    "import os\n",
    "import sys\n",
    "\n",
    "sys.path.append(os.path.abspath(os.path.dirname(os.path.dirname(os.path.abspath('')))))\n",
    "from compute_results import plot_roc_curve, get_overall_metrics"
   ]
  },
  {
   "cell_type": "code",
   "execution_count": 2,
   "metadata": {},
   "outputs": [],
   "source": [
    "RANDOM_SEED = 33\n",
    "torch.manual_seed(RANDOM_SEED)\n",
    "np.random.seed(RANDOM_SEED)\n",
    "random.seed(RANDOM_SEED)"
   ]
  },
  {
   "cell_type": "markdown",
   "metadata": {},
   "source": [
    "# Importing preprocessed data"
   ]
  },
  {
   "cell_type": "code",
   "execution_count": 3,
   "metadata": {},
   "outputs": [],
   "source": [
    "project_root = '../..'\n",
    "PATH_TRAIN_AXAM_CSV = f'{project_root}/data/train_AxAm_preprocessed.csv'\n",
    "PATH_TRAIN_AMAM_CSV = f'{project_root}/data/train_AmAm_preprocessed.csv'\n",
    "PATH_VAL_CSV = f'{project_root}/data/val_preprocessed.csv'\n",
    "PATH_TEST_CSV = f'{project_root}/data/test_preprocessed.csv'\n",
    "\n",
    "y_train_AxAm = pd.read_csv(PATH_TRAIN_AXAM_CSV, usecols=['label'])\n",
    "y_train_AmAm = pd.read_csv(PATH_TRAIN_AMAM_CSV, usecols=['label'])\n",
    "y_val = pd.read_csv(PATH_VAL_CSV, usecols=['label'])\n",
    "y_test = pd.read_csv(PATH_TEST_CSV, usecols=['label'])"
   ]
  },
  {
   "cell_type": "code",
   "execution_count": 4,
   "metadata": {},
   "outputs": [],
   "source": [
    "PATH_TRAIN_AXAM_NPY = f'{project_root}/data/train_AxAm_charlevel_features.npy'\n",
    "PATH_TRAIN_AMAM_NPY = f'{project_root}/data/train_AmAm_charlevel_features.npy'\n",
    "PATH_VAL_NPY = f'{project_root}/data/val_charlevel_features.npy'\n",
    "PATH_TEST_NPY = f'{project_root}/data/test_charlevel_features.npy'\n",
    "\n",
    "cl_features_train_AxAm = np.load(PATH_TRAIN_AXAM_NPY)\n",
    "cl_features_train_AmAm = np.load(PATH_TRAIN_AMAM_NPY)\n",
    "cl_features_val = np.load(PATH_VAL_NPY)\n",
    "cl_features_test = np.load(PATH_TEST_NPY)"
   ]
  },
  {
   "cell_type": "code",
   "execution_count": 5,
   "metadata": {},
   "outputs": [],
   "source": [
    "cl_features_train_AxAm = torch.tensor(cl_features_train_AxAm, dtype=torch.int32)\n",
    "cl_features_train_AmAm = torch.tensor(cl_features_train_AmAm, dtype=torch.int32)\n",
    "cl_features_val = torch.tensor(cl_features_val, dtype=torch.int32)\n",
    "cl_features_test = torch.tensor(cl_features_test, dtype=torch.int32)"
   ]
  },
  {
   "cell_type": "code",
   "execution_count": 6,
   "metadata": {},
   "outputs": [],
   "source": [
    "y_train_AxAm = torch.FloatTensor(y_train_AxAm.to_numpy().squeeze())\n",
    "y_val = torch.FloatTensor(y_val.to_numpy().squeeze())"
   ]
  },
  {
   "cell_type": "markdown",
   "metadata": {},
   "source": [
    "# CNN Baseline"
   ]
  },
  {
   "cell_type": "code",
   "execution_count": 7,
   "metadata": {},
   "outputs": [],
   "source": [
    "MAX_FEATURES = cl_features_test.shape[1]\n",
    "EMBEDDING_DIM = 128\n",
    "DROPOUT_RATE = 0.3\n",
    "\n",
    "LEARNING_RATE = 1e-5\n",
    "WEIGHT_DECAY = 3e-5\n",
    "NUM_EPOCHS = 18\n",
    "BATCH_SIZE = 256\n",
    "PATIENCE = 6\n",
    "DELTA = 0.001"
   ]
  },
  {
   "cell_type": "code",
   "execution_count": 8,
   "metadata": {},
   "outputs": [],
   "source": [
    "# # TRAINED ON GOOGLE COLAB USING GPU\n",
    "\n",
    "# model_cnn_AxAm = CNNModel(max_features=256, embedding_dim=EMBEDDING_DIM, dropout_rate=DROPOUT_RATE)\n",
    "# model_cnn_AxAm.compile(learning_rate=LEARNING_RATE, weight_decay=WEIGHT_DECAY)\n",
    "# model_cnn_AxAm = model_cnn_AxAm.to(device)\n",
    "# model_cnn_AxAm, train_avg_losses_AxAm, val_avg_losses_AxAm = model_cnn_AxAm.fit(\n",
    "#                                                 X_train=cl_features_train_AxAm,\n",
    "#                                                 y_train=y_train_AxAm,\n",
    "#                                                 num_epochs= NUM_EPOCHS,\n",
    "#                                                 batch_size=BATCH_SIZE,\n",
    "#                                                 X_val=cl_features_val,\n",
    "#                                                 y_val=y_val,\n",
    "#                                                 patience=PATIENCE,\n",
    "#                                                 delta=DELTA,\n",
    "#                                             )"
   ]
  },
  {
   "cell_type": "code",
   "execution_count": 9,
   "metadata": {},
   "outputs": [
    {
     "data": {
      "text/plain": [
       "CNNModel(\n",
       "  (embedding_layer): Embedding(256, 128)\n",
       "  (conv_layer): Conv1d(128, 1000, kernel_size=(2,), stride=(1,), padding=(1,))\n",
       "  (relu): ReLU()\n",
       "  (flatten): Flatten(start_dim=1, end_dim=-1)\n",
       "  (dropout_layer): Dropout(p=0.3, inplace=False)\n",
       "  (dense_layer_1): Linear(in_features=257000, out_features=100, bias=True)\n",
       "  (dense_layer_2): Linear(in_features=100, out_features=1, bias=True)\n",
       "  (sigmoid): Sigmoid()\n",
       ")"
      ]
     },
     "execution_count": 9,
     "metadata": {},
     "output_type": "execute_result"
    }
   ],
   "source": [
    "model_cnn_AxAm = CNNModel(max_features=256, embedding_dim=EMBEDDING_DIM, dropout_rate=DROPOUT_RATE)\n",
    "model_cnn_AxAm.load_state_dict(torch.load(f'{project_root}/experiments/model_cnn_AxAm.pt'))\n",
    "model_cnn_AxAm.eval()"
   ]
  },
  {
   "cell_type": "code",
   "execution_count": 10,
   "metadata": {},
   "outputs": [],
   "source": [
    "# TRAINED ON GOOGLE COLAB USING GPU\n",
    "\n",
    "# model_lstm_AmAm = LSTMModel(max_features=MAX_FEATURES,\n",
    "#                             embedding_dim=EMBEDDING_DIM,\n",
    "#                             hidden_dim=HIDDEN_DIM,\n",
    "#                             dropout_rate=DROPOUT_RATE)\n",
    "# model_lstm_AmAm.compile(learning_rate=LEARNING_RATE, weight_decay=WEIGHT_DECAY)\n",
    "# model_lstm_AmAm = model_lstm_AmAm.to(device)\n",
    "# model_lstm_AmAm, train_avg_losses_AmAm, val_avg_losses_AmAm = model_lstm_AmAm.fit(\n",
    "#                                                 X_train=cl_features_train_AmAm,\n",
    "#                                                 y_train=y_train_AmAm,\n",
    "#                                                 num_epochs= NUM_EPOCHS,\n",
    "#                                                 batch_size=BATCH_SIZE,\n",
    "#                                                 X_val=cl_features_val,\n",
    "#                                                 y_val=y_val,\n",
    "#                                                 patience=PATIENCE,\n",
    "#                                                 delta=DELTA,\n",
    "#                                             )"
   ]
  },
  {
   "cell_type": "code",
   "execution_count": null,
   "metadata": {},
   "outputs": [],
   "source": [
    "model_lstm_AmAm = LSTMModel(max_features=MAX_FEATURES, embedding_dim=EMBEDDING_DIM, hidden_dim=HIDDEN_DIM, dropout_rate=DROPOUT_RATE)\n",
    "model_lstm_AmAm.load_state_dict(torch.load('../experiments/model_lstm_AmAm.pt'))\n",
    "model_lstm_AmAm.eval()"
   ]
  },
  {
   "cell_type": "markdown",
   "metadata": {},
   "source": [
    "##  Results"
   ]
  },
  {
   "cell_type": "markdown",
   "metadata": {},
   "source": [
    "## AxAm trained"
   ]
  },
  {
   "cell_type": "markdown",
   "metadata": {},
   "source": [
    "### Val"
   ]
  },
  {
   "cell_type": "code",
   "execution_count": 12,
   "metadata": {},
   "outputs": [
    {
     "name": "stderr",
     "output_type": "stream",
     "text": [
      "100%|██████████| 127/127 [14:48<00:00,  7.00s/it]\n"
     ]
    },
    {
     "data": {
      "image/png": "[encoded data removed]",
      "text/plain": [
       "<Figure size 640x480 with 1 Axes>"
      ]
     },
     "metadata": {},
     "output_type": "display_data"
    }
   ],
   "source": [
    "preds_val_AxAm = model_cnn_AxAm.batch_inference(cl_features_val, 1024)\n",
    "plot_roc_curve(y_val, preds_val_AxAm)"
   ]
  },
  {
   "cell_type": "code",
   "execution_count": 13,
   "metadata": {},
   "outputs": [],
   "source": [
    "fpr, tpr, thresholds = roc_curve(y_val, preds_val_AxAm)\n",
    "df_val_roc = pd.DataFrame({'fpr':fpr, 'tpr':tpr, 'thresholds':thresholds})\n",
    "df_val_roc['youden-index'] = df_val_roc['tpr'] - df_val_roc['fpr']\n",
    "BEST_VALIDATION_THRESHOLD_AXAM = df_val_roc.sort_values('youden-index', ascending=False).drop_duplicates('fpr').iloc[0]['thresholds']"
   ]
  },
  {
   "cell_type": "code",
   "execution_count": 14,
   "metadata": {},
   "outputs": [
    {
     "data": {
      "text/plain": [
       "{'acc': 0.9432615384615385,\n",
       " 'tpr': 0.949,\n",
       " 'fpr': 0.05846,\n",
       " 'precision': 0.8296421494346661,\n",
       " 'f1-score': 0.8853162510106349}"
      ]
     },
     "execution_count": 14,
     "metadata": {},
     "output_type": "execute_result"
    }
   ],
   "source": [
    "get_overall_metrics(y_val, preds_val_AxAm > BEST_VALIDATION_THRESHOLD_AXAM)"
   ]
  },
  {
   "cell_type": "markdown",
   "metadata": {},
   "source": [
    "### Test"
   ]
  },
  {
   "cell_type": "code",
   "execution_count": 15,
   "metadata": {},
   "outputs": [
    {
     "name": "stderr",
     "output_type": "stream",
     "text": [
      "100%|██████████| 40/40 [01:16<00:00,  1.92s/it]\n"
     ]
    },
    {
     "data": {
      "image/png": "[encoded data removed]",
      "text/plain": [
       "<Figure size 640x480 with 1 Axes>"
      ]
     },
     "metadata": {},
     "output_type": "display_data"
    }
   ],
   "source": [
    "preds_test_AxAm = model_cnn_AxAm.batch_inference(cl_features_test, BATCH_SIZE)\n",
    "plot_roc_curve(y_test, preds_test_AxAm)"
   ]
  },
  {
   "cell_type": "code",
   "execution_count": 16,
   "metadata": {},
   "outputs": [
    {
     "data": {
      "text/plain": [
       "{'acc': 0.8896,\n",
       " 'tpr': 0.958,\n",
       " 'fpr': 0.118,\n",
       " 'precision': 0.47425742574257423,\n",
       " 'f1-score': 0.6344370860927152}"
      ]
     },
     "execution_count": 16,
     "metadata": {},
     "output_type": "execute_result"
    }
   ],
   "source": [
    "get_overall_metrics(y_test, preds_test_AxAm > BEST_VALIDATION_THRESHOLD_AXAM)"
   ]
  },
  {
   "cell_type": "code",
   "execution_count": 17,
   "metadata": {},
   "outputs": [],
   "source": [
    "# best_possible_test_threshold\n",
    "fpr, tpr, thresholds = roc_curve(y_test, preds_test_AxAm)\n",
    "df_val_roc = pd.DataFrame({'fpr':fpr, 'tpr':tpr, 'thresholds':thresholds})\n",
    "df_val_roc['youden-index'] = df_val_roc['tpr'] - df_val_roc['fpr']\n",
    "best_possible_test_threshold_AxAm = df_val_roc.sort_values('youden-index', ascending=False).drop_duplicates('fpr').iloc[0]['thresholds']"
   ]
  },
  {
   "cell_type": "code",
   "execution_count": 18,
   "metadata": {},
   "outputs": [
    {
     "data": {
      "text/plain": [
       "{'acc': 0.9442,\n",
       " 'tpr': 0.925,\n",
       " 'fpr': 0.05366666666666667,\n",
       " 'precision': 0.6569602272727273,\n",
       " 'f1-score': 0.7682724252491695}"
      ]
     },
     "execution_count": 18,
     "metadata": {},
     "output_type": "execute_result"
    }
   ],
   "source": [
    "get_overall_metrics(y_test, preds_test_AxAm > best_possible_test_threshold_AxAm)"
   ]
  },
  {
   "cell_type": "markdown",
   "metadata": {},
   "source": [
    "## AmAm trained"
   ]
  },
  {
   "cell_type": "markdown",
   "metadata": {},
   "source": [
    "### Val"
   ]
  },
  {
   "cell_type": "code",
   "execution_count": null,
   "metadata": {},
   "outputs": [],
   "source": [
    "preds_val_AmAm = model_lstm_AmAm.batch_inference(cl_features_val, BATCH_SIZE)\n",
    "plot_roc_curve(y_val, preds_val_AmAm)"
   ]
  },
  {
   "cell_type": "code",
   "execution_count": null,
   "metadata": {},
   "outputs": [],
   "source": [
    "fpr, tpr, thresholds = roc_curve(y_val, preds_val_AmAm)\n",
    "df_val_roc = pd.DataFrame({'fpr':fpr, 'tpr':tpr, 'thresholds':thresholds})\n",
    "df_val_roc['youden-index'] = df_val_roc['tpr'] - df_val_roc['fpr']\n",
    "BEST_VALIDATION_THRESHOLD_AMAM = df_val_roc.sort_values('youden-index', ascending=False).iloc[0]['thresholds']"
   ]
  },
  {
   "cell_type": "code",
   "execution_count": null,
   "metadata": {},
   "outputs": [],
   "source": [
    "get_overall_metrics(y_val, preds_val_AmAm > BEST_VALIDATION_THRESHOLD_AMAM)"
   ]
  },
  {
   "cell_type": "markdown",
   "metadata": {},
   "source": [
    "### Test"
   ]
  },
  {
   "cell_type": "code",
   "execution_count": null,
   "metadata": {},
   "outputs": [],
   "source": [
    "preds_test_AmAm = model_lstm_AxAm.batch_inference(cl_features_test, BATCH_SIZE)\n",
    "plot_roc_curve(y_test, preds_test_AmAm)"
   ]
  },
  {
   "cell_type": "code",
   "execution_count": null,
   "metadata": {},
   "outputs": [],
   "source": [
    "get_overall_metrics(y_test, preds_test_AmAm > BEST_VALIDATION_THRESHOLD_AMAM)"
   ]
  },
  {
   "cell_type": "code",
   "execution_count": null,
   "metadata": {},
   "outputs": [],
   "source": [
    "# best_possible_test_threshold\n",
    "fpr, tpr, thresholds = roc_curve(y_test, preds_test_AmAm)\n",
    "df_val_roc = pd.DataFrame({'fpr':fpr, 'tpr':tpr, 'thresholds':thresholds})\n",
    "df_val_roc['youden-index'] = df_val_roc['tpr'] - df_val_roc['fpr']\n",
    "best_possible_test_threshold_AmAm = df_val_roc.sort_values('youden-index', ascending=False).iloc[0]['thresholds']"
   ]
  },
  {
   "cell_type": "code",
   "execution_count": null,
   "metadata": {},
   "outputs": [],
   "source": [
    "get_overall_metrics(y_test, preds_test_AmAm > best_possible_test_threshold_AmAm)"
   ]
  },
  {
   "cell_type": "code",
   "execution_count": null,
   "metadata": {},
   "outputs": [],
   "source": [
    "fpr, tpr, threshold = roc_curve(y_test, preds_test_AmAm, pos_label=1)\n",
    "fnr = 1 - tpr\n",
    "eer_threshold = threshold[np.nanargmin(np.absolute((fnr - fpr)))]"
   ]
  },
  {
   "cell_type": "code",
   "execution_count": null,
   "metadata": {},
   "outputs": [],
   "source": [
    "get_overall_metrics(y_test, preds_test_AmAm > eer_threshold)"
   ]
  },
  {
   "cell_type": "code",
   "execution_count": null,
   "metadata": {},
   "outputs": [],
   "source": []
  }
 ],
 "metadata": {
  "kernelspec": {
   "display_name": "ae_dga_detection",
   "language": "python",
   "name": "python3"
  },
  "language_info": {
   "codemirror_mode": {
    "name": "ipython",
    "version": 3
   },
   "file_extension": ".py",
   "mimetype": "text/x-python",
   "name": "python",
   "nbconvert_exporter": "python",
   "pygments_lexer": "ipython3",
   "version": "3.12.2"
  }
 },
 "nbformat": 4,
 "nbformat_minor": 2
}
