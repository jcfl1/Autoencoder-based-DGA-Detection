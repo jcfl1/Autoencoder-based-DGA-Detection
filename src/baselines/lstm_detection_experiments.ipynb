{
 "cells": [
  {
   "cell_type": "code",
   "execution_count": 22,
   "metadata": {},
   "outputs": [],
   "source": [
    "from lstm import LSTMModel\n",
    "import pandas as pd\n",
    "import numpy as np\n",
    "import random\n",
    "import matplotlib.pyplot as plt\n",
    "from sklearn.metrics import roc_curve\n",
    "import torch\n",
    "import os\n",
    "from compute_results import plot_roc_curve, get_overall_metrics"
   ]
  },
  {
   "cell_type": "code",
   "execution_count": 23,
   "metadata": {},
   "outputs": [],
   "source": [
    "RANDOM_SEED = 33\n",
    "torch.manual_seed(RANDOM_SEED)\n",
    "np.random.seed(RANDOM_SEED)\n",
    "random.seed(RANDOM_SEED)"
   ]
  },
  {
   "cell_type": "markdown",
   "metadata": {},
   "source": [
    "# Importing preprocessed data"
   ]
  },
  {
   "cell_type": "code",
   "execution_count": 24,
   "metadata": {},
   "outputs": [
    {
     "ename": "KeyboardInterrupt",
     "evalue": "",
     "output_type": "error",
     "traceback": [
      "\u001b[0;31m---------------------------------------------------------------------------\u001b[0m",
      "\u001b[0;31mKeyboardInterrupt\u001b[0m                         Traceback (most recent call last)",
      "Cell \u001b[0;32mIn[24], line 7\u001b[0m\n\u001b[1;32m      4\u001b[0m PATH_TEST_CSV \u001b[38;5;241m=\u001b[39m \u001b[38;5;124m'\u001b[39m\u001b[38;5;124m../../data/test_preprocessed.csv\u001b[39m\u001b[38;5;124m'\u001b[39m\n\u001b[1;32m      6\u001b[0m y_train_AxAm \u001b[38;5;241m=\u001b[39m pd\u001b[38;5;241m.\u001b[39mread_csv(PATH_TRAIN_AXAM_CSV, usecols\u001b[38;5;241m=\u001b[39m[\u001b[38;5;124m'\u001b[39m\u001b[38;5;124mlabel\u001b[39m\u001b[38;5;124m'\u001b[39m])\n\u001b[0;32m----> 7\u001b[0m y_train_AmAm \u001b[38;5;241m=\u001b[39m \u001b[43mpd\u001b[49m\u001b[38;5;241;43m.\u001b[39;49m\u001b[43mread_csv\u001b[49m\u001b[43m(\u001b[49m\u001b[43mPATH_TRAIN_AMAM_CSV\u001b[49m\u001b[43m,\u001b[49m\u001b[43m \u001b[49m\u001b[43musecols\u001b[49m\u001b[38;5;241;43m=\u001b[39;49m\u001b[43m[\u001b[49m\u001b[38;5;124;43m'\u001b[39;49m\u001b[38;5;124;43mlabel\u001b[39;49m\u001b[38;5;124;43m'\u001b[39;49m\u001b[43m]\u001b[49m\u001b[43m)\u001b[49m\n\u001b[1;32m      8\u001b[0m y_val \u001b[38;5;241m=\u001b[39m pd\u001b[38;5;241m.\u001b[39mread_csv(PATH_VAL_CSV, usecols\u001b[38;5;241m=\u001b[39m[\u001b[38;5;124m'\u001b[39m\u001b[38;5;124mlabel\u001b[39m\u001b[38;5;124m'\u001b[39m])\n\u001b[1;32m      9\u001b[0m y_test \u001b[38;5;241m=\u001b[39m pd\u001b[38;5;241m.\u001b[39mread_csv(PATH_TEST_CSV, usecols\u001b[38;5;241m=\u001b[39m[\u001b[38;5;124m'\u001b[39m\u001b[38;5;124mlabel\u001b[39m\u001b[38;5;124m'\u001b[39m])\n",
      "File \u001b[0;32m~/miniconda3/envs/ae_dga_detection/lib/python3.12/site-packages/pandas/io/parsers/readers.py:948\u001b[0m, in \u001b[0;36mread_csv\u001b[0;34m(filepath_or_buffer, sep, delimiter, header, names, index_col, usecols, dtype, engine, converters, true_values, false_values, skipinitialspace, skiprows, skipfooter, nrows, na_values, keep_default_na, na_filter, verbose, skip_blank_lines, parse_dates, infer_datetime_format, keep_date_col, date_parser, date_format, dayfirst, cache_dates, iterator, chunksize, compression, thousands, decimal, lineterminator, quotechar, quoting, doublequote, escapechar, comment, encoding, encoding_errors, dialect, on_bad_lines, delim_whitespace, low_memory, memory_map, float_precision, storage_options, dtype_backend)\u001b[0m\n\u001b[1;32m    935\u001b[0m kwds_defaults \u001b[38;5;241m=\u001b[39m _refine_defaults_read(\n\u001b[1;32m    936\u001b[0m     dialect,\n\u001b[1;32m    937\u001b[0m     delimiter,\n\u001b[0;32m   (...)\u001b[0m\n\u001b[1;32m    944\u001b[0m     dtype_backend\u001b[38;5;241m=\u001b[39mdtype_backend,\n\u001b[1;32m    945\u001b[0m )\n\u001b[1;32m    946\u001b[0m kwds\u001b[38;5;241m.\u001b[39mupdate(kwds_defaults)\n\u001b[0;32m--> 948\u001b[0m \u001b[38;5;28;01mreturn\u001b[39;00m \u001b[43m_read\u001b[49m\u001b[43m(\u001b[49m\u001b[43mfilepath_or_buffer\u001b[49m\u001b[43m,\u001b[49m\u001b[43m \u001b[49m\u001b[43mkwds\u001b[49m\u001b[43m)\u001b[49m\n",
      "File \u001b[0;32m~/miniconda3/envs/ae_dga_detection/lib/python3.12/site-packages/pandas/io/parsers/readers.py:617\u001b[0m, in \u001b[0;36m_read\u001b[0;34m(filepath_or_buffer, kwds)\u001b[0m\n\u001b[1;32m    614\u001b[0m     \u001b[38;5;28;01mreturn\u001b[39;00m parser\n\u001b[1;32m    616\u001b[0m \u001b[38;5;28;01mwith\u001b[39;00m parser:\n\u001b[0;32m--> 617\u001b[0m     \u001b[38;5;28;01mreturn\u001b[39;00m \u001b[43mparser\u001b[49m\u001b[38;5;241;43m.\u001b[39;49m\u001b[43mread\u001b[49m\u001b[43m(\u001b[49m\u001b[43mnrows\u001b[49m\u001b[43m)\u001b[49m\n",
      "File \u001b[0;32m~/miniconda3/envs/ae_dga_detection/lib/python3.12/site-packages/pandas/io/parsers/readers.py:1748\u001b[0m, in \u001b[0;36mTextFileReader.read\u001b[0;34m(self, nrows)\u001b[0m\n\u001b[1;32m   1741\u001b[0m nrows \u001b[38;5;241m=\u001b[39m validate_integer(\u001b[38;5;124m\"\u001b[39m\u001b[38;5;124mnrows\u001b[39m\u001b[38;5;124m\"\u001b[39m, nrows)\n\u001b[1;32m   1742\u001b[0m \u001b[38;5;28;01mtry\u001b[39;00m:\n\u001b[1;32m   1743\u001b[0m     \u001b[38;5;66;03m# error: \"ParserBase\" has no attribute \"read\"\u001b[39;00m\n\u001b[1;32m   1744\u001b[0m     (\n\u001b[1;32m   1745\u001b[0m         index,\n\u001b[1;32m   1746\u001b[0m         columns,\n\u001b[1;32m   1747\u001b[0m         col_dict,\n\u001b[0;32m-> 1748\u001b[0m     ) \u001b[38;5;241m=\u001b[39m \u001b[38;5;28;43mself\u001b[39;49m\u001b[38;5;241;43m.\u001b[39;49m\u001b[43m_engine\u001b[49m\u001b[38;5;241;43m.\u001b[39;49m\u001b[43mread\u001b[49m\u001b[43m(\u001b[49m\u001b[43m  \u001b[49m\u001b[38;5;66;43;03m# type: ignore[attr-defined]\u001b[39;49;00m\n\u001b[1;32m   1749\u001b[0m \u001b[43m        \u001b[49m\u001b[43mnrows\u001b[49m\n\u001b[1;32m   1750\u001b[0m \u001b[43m    \u001b[49m\u001b[43m)\u001b[49m\n\u001b[1;32m   1751\u001b[0m \u001b[38;5;28;01mexcept\u001b[39;00m \u001b[38;5;167;01mException\u001b[39;00m:\n\u001b[1;32m   1752\u001b[0m     \u001b[38;5;28mself\u001b[39m\u001b[38;5;241m.\u001b[39mclose()\n",
      "File \u001b[0;32m~/miniconda3/envs/ae_dga_detection/lib/python3.12/site-packages/pandas/io/parsers/c_parser_wrapper.py:234\u001b[0m, in \u001b[0;36mCParserWrapper.read\u001b[0;34m(self, nrows)\u001b[0m\n\u001b[1;32m    232\u001b[0m \u001b[38;5;28;01mtry\u001b[39;00m:\n\u001b[1;32m    233\u001b[0m     \u001b[38;5;28;01mif\u001b[39;00m \u001b[38;5;28mself\u001b[39m\u001b[38;5;241m.\u001b[39mlow_memory:\n\u001b[0;32m--> 234\u001b[0m         chunks \u001b[38;5;241m=\u001b[39m \u001b[38;5;28;43mself\u001b[39;49m\u001b[38;5;241;43m.\u001b[39;49m\u001b[43m_reader\u001b[49m\u001b[38;5;241;43m.\u001b[39;49m\u001b[43mread_low_memory\u001b[49m\u001b[43m(\u001b[49m\u001b[43mnrows\u001b[49m\u001b[43m)\u001b[49m\n\u001b[1;32m    235\u001b[0m         \u001b[38;5;66;03m# destructive to chunks\u001b[39;00m\n\u001b[1;32m    236\u001b[0m         data \u001b[38;5;241m=\u001b[39m _concatenate_chunks(chunks)\n",
      "File \u001b[0;32mparsers.pyx:843\u001b[0m, in \u001b[0;36mpandas._libs.parsers.TextReader.read_low_memory\u001b[0;34m()\u001b[0m\n",
      "File \u001b[0;32mparsers.pyx:904\u001b[0m, in \u001b[0;36mpandas._libs.parsers.TextReader._read_rows\u001b[0;34m()\u001b[0m\n",
      "File \u001b[0;32mparsers.pyx:879\u001b[0m, in \u001b[0;36mpandas._libs.parsers.TextReader._tokenize_rows\u001b[0;34m()\u001b[0m\n",
      "File \u001b[0;32mparsers.pyx:890\u001b[0m, in \u001b[0;36mpandas._libs.parsers.TextReader._check_tokenize_status\u001b[0;34m()\u001b[0m\n",
      "File \u001b[0;32mparsers.pyx:2050\u001b[0m, in \u001b[0;36mpandas._libs.parsers.raise_parser_error\u001b[0;34m()\u001b[0m\n",
      "File \u001b[0;32m<frozen codecs>:331\u001b[0m, in \u001b[0;36mgetstate\u001b[0;34m(self)\u001b[0m\n",
      "\u001b[0;31mKeyboardInterrupt\u001b[0m: "
     ]
    }
   ],
   "source": [
    "PATH_TRAIN_AXAM_CSV = '../../data/train_AxAm_preprocessed.csv'\n",
    "PATH_TRAIN_AMAM_CSV = '../../data/train_AmAm_preprocessed.csv'\n",
    "PATH_VAL_CSV = '../../data/val_preprocessed.csv'\n",
    "PATH_TEST_CSV = '../../data/test_preprocessed.csv'\n",
    "\n",
    "y_train_AxAm = pd.read_csv(PATH_TRAIN_AXAM_CSV, usecols=['label'])\n",
    "y_train_AmAm = pd.read_csv(PATH_TRAIN_AMAM_CSV, usecols=['label'])\n",
    "y_val = pd.read_csv(PATH_VAL_CSV, usecols=['label'])\n",
    "y_test = pd.read_csv(PATH_TEST_CSV, usecols=['label'])"
   ]
  },
  {
   "cell_type": "code",
   "execution_count": null,
   "metadata": {},
   "outputs": [],
   "source": [
    "PATH_TRAIN_AXAM_NPY = '../../data/train_AxAm_charlevel_features.npy'\n",
    "PATH_TRAIN_AMAM_NPY = '../../data/train_AmAm_charlevel_features.npy'\n",
    "PATH_VAL_NPY = '../../data/val_charlevel_features.npy'\n",
    "PATH_TEST_NPY = '../../data/test_charlevel_features.npy'\n",
    "\n",
    "cl_features_train_AxAm = np.load(PATH_TRAIN_AXAM_NPY)\n",
    "cl_features_train_AmAm = np.load(PATH_TRAIN_AMAM_NPY)\n",
    "cl_features_val = np.load(PATH_VAL_NPY)\n",
    "cl_features_test = np.load(PATH_TEST_NPY)"
   ]
  },
  {
   "cell_type": "code",
   "execution_count": null,
   "metadata": {},
   "outputs": [],
   "source": [
    "cl_features_train_AxAm = torch.tensor(cl_features_train_AxAm, dtype=torch.int32)\n",
    "cl_features_train_AmAm = torch.tensor(cl_features_train_AmAm, dtype=torch.int32)\n",
    "cl_features_val = torch.tensor(cl_features_val, dtype=torch.int32)\n",
    "cl_features_test = torch.tensor(cl_features_test, dtype=torch.int32)"
   ]
  },
  {
   "cell_type": "code",
   "execution_count": null,
   "metadata": {},
   "outputs": [],
   "source": [
    "y_train_AxAm = torch.FloatTensor(y_train_AxAm.to_numpy().squeeze())\n",
    "y_val = torch.FloatTensor(y_val.to_numpy().squeeze())"
   ]
  },
  {
   "cell_type": "markdown",
   "metadata": {},
   "source": [
    "# LSTM Baseline"
   ]
  },
  {
   "cell_type": "code",
   "execution_count": null,
   "metadata": {},
   "outputs": [],
   "source": [
    "MAX_FEATURES = cl_features_test.shape[1]\n",
    "EMBEDDING_DIM = 128\n",
    "HIDDEN_DIM = 64\n",
    "DROPOUT_RATE = 0.3\n",
    "\n",
    "LEARNING_RATE = 4e-4\n",
    "WEIGHT_DECAY = 3e-5\n",
    "NUM_EPOCHS = 25\n",
    "BATCH_SIZE = 128\n",
    "PATIENCE = 6\n",
    "DELTA = 0.001"
   ]
  },
  {
   "cell_type": "code",
   "execution_count": null,
   "metadata": {},
   "outputs": [],
   "source": [
    "# TRAINED ON GOOGLE COLAB USING GPU\n",
    "\n",
    "# model_lstm_AxAm = LSTMModel(max_features=MAX_FEATURES,\n",
    "#                             embedding_dim=EMBEDDING_DIM,\n",
    "#                             hidden_dim=HIDDEN_DIM,\n",
    "#                             dropout_rate=DROPOUT_RATE)\n",
    "# model_lstm_AxAm.compile(learning_rate=LEARNING_RATE, weight_decay=WEIGHT_DECAY)\n",
    "# model_lstm_AxAm, train_avg_losses_AxAm, val_avg_losses_AxAm = model_lstm_AxAm.fit(\n",
    "#                                                 X_train=cl_features_train_AxAm,\n",
    "#                                                 y_train=y_train_AxAm,\n",
    "#                                                 num_epochs= NUM_EPOCHS,\n",
    "#                                                 batch_size=BATCH_SIZE,\n",
    "#                                                 X_val=cl_features_val,\n",
    "#                                                 y_val=y_val,\n",
    "#                                                 patience=PATIENCE,\n",
    "#                                                 delta=DELTA,\n",
    "#                                             )"
   ]
  },
  {
   "cell_type": "code",
   "execution_count": null,
   "metadata": {},
   "outputs": [
    {
     "data": {
      "text/plain": [
       "LSTMModel(\n",
       "  (embedding_layer): Embedding(256, 128)\n",
       "  (lstm_layer): LSTM(128, 64, batch_first=True)\n",
       "  (dropout_layer): Dropout(p=0.3, inplace=False)\n",
       "  (linear_layer): Linear(in_features=64, out_features=1, bias=True)\n",
       "  (sigmoid): Sigmoid()\n",
       ")"
      ]
     },
     "execution_count": 12,
     "metadata": {},
     "output_type": "execute_result"
    }
   ],
   "source": [
    "model_lstm_AxAm = LSTMModel(max_features=MAX_FEATURES, embedding_dim=EMBEDDING_DIM, hidden_dim=HIDDEN_DIM, dropout_rate=DROPOUT_RATE)\n",
    "model_lstm_AxAm.load_state_dict(torch.load('../../experiments/model_lstm_AxAm.pt'))\n",
    "model_lstm_AxAm.eval()"
   ]
  },
  {
   "cell_type": "code",
   "execution_count": null,
   "metadata": {},
   "outputs": [],
   "source": [
    "# TRAINED ON GOOGLE COLAB USING GPU\n",
    "\n",
    "# model_lstm_AmAm = LSTMModel(max_features=MAX_FEATURES,\n",
    "#                             embedding_dim=EMBEDDING_DIM,\n",
    "#                             hidden_dim=HIDDEN_DIM,\n",
    "#                             dropout_rate=DROPOUT_RATE)\n",
    "# model_lstm_AmAm.compile(learning_rate=LEARNING_RATE, weight_decay=WEIGHT_DECAY)\n",
    "# model_lstm_AmAm = model_lstm_AmAm.to(device)\n",
    "# model_lstm_AmAm, train_avg_losses_AmAm, val_avg_losses_AmAm = model_lstm_AmAm.fit(\n",
    "#                                                 X_train=cl_features_train_AmAm,\n",
    "#                                                 y_train=y_train_AmAm,\n",
    "#                                                 num_epochs= NUM_EPOCHS,\n",
    "#                                                 batch_size=BATCH_SIZE,\n",
    "#                                                 X_val=cl_features_val,\n",
    "#                                                 y_val=y_val,\n",
    "#                                                 patience=PATIENCE,\n",
    "#                                                 delta=DELTA,\n",
    "#                                             )"
   ]
  },
  {
   "cell_type": "code",
   "execution_count": null,
   "metadata": {},
   "outputs": [
    {
     "data": {
      "text/plain": [
       "LSTMModel(\n",
       "  (embedding_layer): Embedding(256, 128)\n",
       "  (lstm_layer): LSTM(128, 64, batch_first=True)\n",
       "  (dropout_layer): Dropout(p=0.3, inplace=False)\n",
       "  (linear_layer): Linear(in_features=64, out_features=1, bias=True)\n",
       "  (sigmoid): Sigmoid()\n",
       ")"
      ]
     },
     "execution_count": 11,
     "metadata": {},
     "output_type": "execute_result"
    }
   ],
   "source": [
    "model_lstm_AmAm = LSTMModel(max_features=MAX_FEATURES, embedding_dim=EMBEDDING_DIM, hidden_dim=HIDDEN_DIM, dropout_rate=DROPOUT_RATE)\n",
    "model_lstm_AmAm.load_state_dict(torch.load('../../experiments/model_lstm_AmAm.pt'))\n",
    "model_lstm_AmAm.eval()"
   ]
  },
  {
   "cell_type": "markdown",
   "metadata": {},
   "source": [
    "##  Results"
   ]
  },
  {
   "cell_type": "markdown",
   "metadata": {},
   "source": [
    "## AxAm trained"
   ]
  },
  {
   "cell_type": "markdown",
   "metadata": {},
   "source": [
    "### Val"
   ]
  },
  {
   "cell_type": "code",
   "execution_count": null,
   "metadata": {},
   "outputs": [
    {
     "name": "stderr",
     "output_type": "stream",
     "text": [
      "100%|██████████| 1016/1016 [00:53<00:00, 18.92it/s]\n"
     ]
    },
    {
     "data": {
      "image/png": "[encoded data removed]",
      "text/plain": [
       "<Figure size 640x480 with 1 Axes>"
      ]
     },
     "metadata": {},
     "output_type": "display_data"
    }
   ],
   "source": [
    "preds_val_AxAm = model_lstm_AxAm.batch_inference(cl_features_val, BATCH_SIZE)\n",
    "plot_roc_curve(y_val, preds_val_AxAm)"
   ]
  },
  {
   "cell_type": "code",
   "execution_count": null,
   "metadata": {},
   "outputs": [],
   "source": [
    "fpr, tpr, thresholds = roc_curve(y_val, preds_val_AxAm)\n",
    "df_val_roc = pd.DataFrame({'fpr':fpr, 'tpr':tpr, 'thresholds':thresholds})\n",
    "df_val_roc['youden-index'] = df_val_roc['tpr'] - df_val_roc['fpr']\n",
    "BEST_VALIDATION_THRESHOLD_AXAM = df_val_roc.sort_values('youden-index', ascending=False).drop_duplicates('fpr').iloc[0]['thresholds']"
   ]
  },
  {
   "cell_type": "code",
   "execution_count": null,
   "metadata": {},
   "outputs": [
    {
     "data": {
      "text/plain": [
       "{'acc': 0.9507461538461538,\n",
       " 'tpr': 0.935,\n",
       " 'fpr': 0.04453,\n",
       " 'precision': 0.8629972617912193,\n",
       " 'f1-score': 0.897556917267971}"
      ]
     },
     "execution_count": 21,
     "metadata": {},
     "output_type": "execute_result"
    }
   ],
   "source": [
    "get_overall_metrics(y_val, preds_val_AxAm > BEST_VALIDATION_THRESHOLD_AXAM)"
   ]
  },
  {
   "cell_type": "markdown",
   "metadata": {},
   "source": [
    "### Test"
   ]
  },
  {
   "cell_type": "code",
   "execution_count": null,
   "metadata": {},
   "outputs": [
    {
     "name": "stderr",
     "output_type": "stream",
     "text": [
      "100%|██████████| 79/79 [00:07<00:00, 10.15it/s]\n"
     ]
    },
    {
     "data": {
      "image/png": "[encoded data removed]",
      "text/plain": [
       "<Figure size 640x480 with 1 Axes>"
      ]
     },
     "metadata": {},
     "output_type": "display_data"
    }
   ],
   "source": [
    "preds_test_AxAm = model_lstm_AxAm.batch_inference(cl_features_test, BATCH_SIZE)\n",
    "plot_roc_curve(y_test, preds_test_AxAm)"
   ]
  },
  {
   "cell_type": "code",
   "execution_count": null,
   "metadata": {},
   "outputs": [
    {
     "ename": "NameError",
     "evalue": "name 'BEST_VALIDATION_THRESHOLD_AXAM' is not defined",
     "output_type": "error",
     "traceback": [
      "\u001b[0;31m---------------------------------------------------------------------------\u001b[0m",
      "\u001b[0;31mNameError\u001b[0m                                 Traceback (most recent call last)",
      "Cell \u001b[0;32mIn[19], line 1\u001b[0m\n\u001b[0;32m----> 1\u001b[0m get_overall_metrics(y_test, preds_test_AxAm \u001b[38;5;241m>\u001b[39m \u001b[43mBEST_VALIDATION_THRESHOLD_AXAM\u001b[49m)\n",
      "\u001b[0;31mNameError\u001b[0m: name 'BEST_VALIDATION_THRESHOLD_AXAM' is not defined"
     ]
    }
   ],
   "source": [
    "get_overall_metrics(y_test, preds_test_AxAm > BEST_VALIDATION_THRESHOLD_AXAM)"
   ]
  },
  {
   "cell_type": "code",
   "execution_count": null,
   "metadata": {},
   "outputs": [],
   "source": [
    "# best_possible_test_threshold\n",
    "fpr, tpr, thresholds = roc_curve(y_test, preds_test_AxAm)\n",
    "df_val_roc = pd.DataFrame({'fpr':fpr, 'tpr':tpr, 'thresholds':thresholds})\n",
    "df_val_roc['youden-index'] = df_val_roc['tpr'] - df_val_roc['fpr']\n",
    "best_possible_test_threshold_AxAm = df_val_roc.sort_values('youden-index', ascending=False).query('fpr < 0.01').iloc[0]['thresholds']"
   ]
  },
  {
   "cell_type": "code",
   "execution_count": null,
   "metadata": {},
   "outputs": [
    {
     "data": {
      "text/plain": [
       "{'acc': 0.9716,\n",
       " 'tpr': 0.805,\n",
       " 'fpr': 0.009888888888888888,\n",
       " 'precision': 0.9004474272930649,\n",
       " 'f1-score': 0.8500527983104541}"
      ]
     },
     "execution_count": 21,
     "metadata": {},
     "output_type": "execute_result"
    }
   ],
   "source": [
    "get_overall_metrics(y_test, preds_test_AxAm > best_possible_test_threshold_AxAm)"
   ]
  },
  {
   "cell_type": "markdown",
   "metadata": {},
   "source": [
    "## AmAm trained"
   ]
  },
  {
   "cell_type": "markdown",
   "metadata": {},
   "source": [
    "### Val"
   ]
  },
  {
   "cell_type": "code",
   "execution_count": null,
   "metadata": {},
   "outputs": [
    {
     "name": "stderr",
     "output_type": "stream",
     "text": [
      "100%|██████████| 1016/1016 [00:50<00:00, 19.92it/s]\n"
     ]
    },
    {
     "data": {
      "image/png": "[encoded data removed]",
      "text/plain": [
       "<Figure size 640x480 with 1 Axes>"
      ]
     },
     "metadata": {},
     "output_type": "display_data"
    }
   ],
   "source": [
    "preds_val_AmAm = model_lstm_AmAm.batch_inference(cl_features_val, BATCH_SIZE)\n",
    "plot_roc_curve(y_val, preds_val_AmAm)"
   ]
  },
  {
   "cell_type": "code",
   "execution_count": null,
   "metadata": {},
   "outputs": [],
   "source": [
    "fpr, tpr, thresholds = roc_curve(y_val, preds_val_AmAm)\n",
    "df_val_roc = pd.DataFrame({'fpr':fpr, 'tpr':tpr, 'thresholds':thresholds})\n",
    "df_val_roc['youden-index'] = df_val_roc['tpr'] - df_val_roc['fpr']\n",
    "BEST_VALIDATION_THRESHOLD_AMAM = df_val_roc.sort_values('youden-index', ascending=False).iloc[0]['thresholds']"
   ]
  },
  {
   "cell_type": "code",
   "execution_count": null,
   "metadata": {},
   "outputs": [
    {
     "data": {
      "text/plain": [
       "{'acc': 0.9522923076923077,\n",
       " 'tpr': 0.9364666666666667,\n",
       " 'fpr': 0.04296,\n",
       " 'precision': 0.8673664711330658,\n",
       " 'f1-score': 0.9005930437570123}"
      ]
     },
     "execution_count": 55,
     "metadata": {},
     "output_type": "execute_result"
    }
   ],
   "source": [
    "get_overall_metrics(y_val, preds_val_AmAm > BEST_VALIDATION_THRESHOLD_AMAM)"
   ]
  },
  {
   "cell_type": "markdown",
   "metadata": {},
   "source": [
    "### Test"
   ]
  },
  {
   "cell_type": "code",
   "execution_count": null,
   "metadata": {},
   "outputs": [
    {
     "name": "stderr",
     "output_type": "stream",
     "text": [
      "  0%|          | 0/79 [00:00<?, ?it/s]"
     ]
    },
    {
     "name": "stderr",
     "output_type": "stream",
     "text": [
      "100%|██████████| 79/79 [00:07<00:00,  9.99it/s]\n"
     ]
    },
    {
     "data": {
      "image/png": "[encoded data removed]",
      "text/plain": [
       "<Figure size 640x480 with 1 Axes>"
      ]
     },
     "metadata": {},
     "output_type": "display_data"
    }
   ],
   "source": [
    "preds_test_AmAm = model_lstm_AmAm.batch_inference(cl_features_test, BATCH_SIZE)\n",
    "plot_roc_curve(y_test, preds_test_AmAm)"
   ]
  },
  {
   "cell_type": "code",
   "execution_count": null,
   "metadata": {},
   "outputs": [
    {
     "data": {
      "text/plain": [
       "{'acc': 0.9446,\n",
       " 'tpr': 0.928,\n",
       " 'fpr': 0.05355555555555556,\n",
       " 'precision': 0.6581560283687943,\n",
       " 'f1-score': 0.7701244813278008}"
      ]
     },
     "execution_count": 60,
     "metadata": {},
     "output_type": "execute_result"
    }
   ],
   "source": [
    "get_overall_metrics(y_test, preds_test_AmAm > BEST_VALIDATION_THRESHOLD_AMAM)"
   ]
  },
  {
   "cell_type": "code",
   "execution_count": null,
   "metadata": {},
   "outputs": [],
   "source": [
    "# best_possible_test_threshold\n",
    "fpr, tpr, thresholds = roc_curve(y_test, preds_test_AmAm)\n",
    "df_val_roc = pd.DataFrame({'fpr':fpr, 'tpr':tpr, 'thresholds':thresholds})\n",
    "df_val_roc['youden-index'] = df_val_roc['tpr'] - df_val_roc['fpr']\n",
    "best_possible_test_threshold_AmAm = df_val_roc.sort_values('youden-index', ascending=False).query('fpr < 0.01').iloc[0]['thresholds']"
   ]
  },
  {
   "cell_type": "code",
   "execution_count": null,
   "metadata": {},
   "outputs": [
    {
     "data": {
      "text/plain": [
       "{'acc': 0.9728,\n",
       " 'tpr': 0.814,\n",
       " 'fpr': 0.009555555555555555,\n",
       " 'precision': 0.9044444444444445,\n",
       " 'f1-score': 0.8568421052631578}"
      ]
     },
     "execution_count": 15,
     "metadata": {},
     "output_type": "execute_result"
    }
   ],
   "source": [
    "get_overall_metrics(y_test, preds_test_AmAm > best_possible_test_threshold_AmAm)"
   ]
  },
  {
   "cell_type": "code",
   "execution_count": null,
   "metadata": {},
   "outputs": [],
   "source": [
    "fpr, tpr, threshold = roc_curve(y_test, preds_test_AmAm, pos_label=1)\n",
    "fnr = 1 - tpr\n",
    "eer_threshold = threshold[np.nanargmin(np.absolute((fnr - fpr)))]"
   ]
  },
  {
   "cell_type": "code",
   "execution_count": null,
   "metadata": {},
   "outputs": [
    {
     "data": {
      "text/plain": [
       "{'acc': 0.9356,\n",
       " 'tpr': 0.936,\n",
       " 'fpr': 0.06444444444444444,\n",
       " 'precision': 0.6174142480211082,\n",
       " 'f1-score': 0.7440381558028618}"
      ]
     },
     "execution_count": 67,
     "metadata": {},
     "output_type": "execute_result"
    }
   ],
   "source": [
    "get_overall_metrics(y_test, preds_test_AmAm > eer_threshold)"
   ]
  },
  {
   "cell_type": "code",
   "execution_count": null,
   "metadata": {},
   "outputs": [],
   "source": []
  }
 ],
 "metadata": {
  "kernelspec": {
   "display_name": "ae_dga_detection",
   "language": "python",
   "name": "python3"
  },
  "language_info": {
   "codemirror_mode": {
    "name": "ipython",
    "version": 3
   },
   "file_extension": ".py",
   "mimetype": "text/x-python",
   "name": "python",
   "nbconvert_exporter": "python",
   "pygments_lexer": "ipython3",
   "version": "3.12.2"
  }
 },
 "nbformat": 4,
 "nbformat_minor": 2
}
