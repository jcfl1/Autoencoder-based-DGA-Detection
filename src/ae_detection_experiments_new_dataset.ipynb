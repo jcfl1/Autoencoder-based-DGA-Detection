{
 "cells": [
  {
   "cell_type": "code",
   "execution_count": 1,
   "metadata": {},
   "outputs": [],
   "source": [
    "from autoencoder import Autoencoder\n",
    "from compute_results import plot_roc_curve, get_overall_metrics\n",
    "import pandas as pd\n",
    "import numpy as np\n",
    "import random\n",
    "import matplotlib.pyplot as plt\n",
    "from sklearn.metrics import roc_curve\n",
    "import torch\n",
    "import os"
   ]
  },
  {
   "cell_type": "code",
   "execution_count": 2,
   "metadata": {},
   "outputs": [],
   "source": [
    "RANDOM_SEED = 33\n",
    "torch.manual_seed(RANDOM_SEED)\n",
    "np.random.seed(RANDOM_SEED)\n",
    "random.seed(RANDOM_SEED)"
   ]
  },
  {
   "cell_type": "markdown",
   "metadata": {},
   "source": [
    "# Importing preprocessed data"
   ]
  },
  {
   "cell_type": "code",
   "execution_count": 3,
   "metadata": {},
   "outputs": [],
   "source": [
    "PATH_TRAIN_MAJBA_CSV = '../data/train_MajBa_preprocessed.csv'\n",
    "PATH_VAL_MAJBA_CSV = '../data/val_MajBa_preprocessed.csv'\n",
    "PATH_TEST_MAJBA_CSV = '../data/test_MajBa_preprocessed.csv'\n",
    "\n",
    "df_train = pd.read_csv(PATH_TRAIN_MAJBA_CSV)\n",
    "df_val = pd.read_csv(PATH_VAL_MAJBA_CSV)\n",
    "df_test = pd.read_csv(PATH_TEST_MAJBA_CSV)"
   ]
  },
  {
   "cell_type": "code",
   "execution_count": 4,
   "metadata": {},
   "outputs": [],
   "source": [
    "def split_features_labels_and_domains_columns(df):\n",
    "    X = df.drop(['domain', 'label', 'malware'], axis='columns')\n",
    "    y = df['label']\n",
    "    domains = df['domain']\n",
    "    malwares = df['malware']\n",
    "    return X,y,domains,malwares\n",
    "\n",
    "X_train, y_train, domains_train, malwares_train = split_features_labels_and_domains_columns(df_train)\n",
    "X_val, y_val, domains_val, malwares_val = split_features_labels_and_domains_columns(df_val)\n",
    "X_test, y_test, domains_test, malwares_test = split_features_labels_and_domains_columns(df_test)"
   ]
  },
  {
   "cell_type": "markdown",
   "metadata": {},
   "source": [
    "## Preparing autoencoder training data"
   ]
  },
  {
   "cell_type": "markdown",
   "metadata": {},
   "source": [
    "We must remove malicious instances for autoencoder training"
   ]
  },
  {
   "cell_type": "code",
   "execution_count": 5,
   "metadata": {},
   "outputs": [],
   "source": [
    "X_train_benign = X_train[y_train == 0].reset_index(drop=True)"
   ]
  },
  {
   "cell_type": "code",
   "execution_count": 6,
   "metadata": {},
   "outputs": [
    {
     "data": {
      "text/plain": [
       "(281248, 47)"
      ]
     },
     "execution_count": 6,
     "metadata": {},
     "output_type": "execute_result"
    }
   ],
   "source": [
    "X_train_benign.shape"
   ]
  },
  {
   "cell_type": "markdown",
   "metadata": {},
   "source": [
    "Normalizing"
   ]
  },
  {
   "cell_type": "code",
   "execution_count": 7,
   "metadata": {},
   "outputs": [],
   "source": [
    "from sklearn.preprocessing import StandardScaler\n",
    "\n",
    "# For AxAm training set\n",
    "std_scaler = StandardScaler()\n",
    "std_scaler = std_scaler.fit(X_train_benign)\n",
    "\n",
    "X_train_benign_norm = std_scaler.transform(X_train_benign)\n",
    "X_val_norm = std_scaler.transform(X_val)\n",
    "X_test_norm = std_scaler.transform(X_test)\n",
    "\n",
    "X_train_benign_norm = torch.tensor(X_train_benign_norm, dtype=torch.float32)\n",
    "X_val_norm = torch.tensor(X_val_norm, dtype=torch.float32)\n",
    "X_test_norm = torch.tensor(X_test_norm, dtype=torch.float32)"
   ]
  },
  {
   "cell_type": "markdown",
   "metadata": {},
   "source": [
    "# Modelling with Autoencoder"
   ]
  },
  {
   "cell_type": "code",
   "execution_count": 8,
   "metadata": {},
   "outputs": [],
   "source": [
    "HIDDEN_LAYERS_DIM = (40, 35, 25, 15, 10, 15, 25, 35, 40)\n",
    "LEARNING_RATE = 4e-4\n",
    "WEIGHT_DECAY = 1e-4\n",
    "NUM_EPOCHS = 45\n",
    "BATCH_SIZE = 128\n",
    "PATIENCE = 6\n",
    "DELTA = 0.002"
   ]
  },
  {
   "cell_type": "code",
   "execution_count": 10,
   "metadata": {},
   "outputs": [
    {
     "name": "stdout",
     "output_type": "stream",
     "text": [
      "Using early stopping with patience=6, delta=0.002 and es_criterion=aucroc\n"
     ]
    },
    {
     "name": "stderr",
     "output_type": "stream",
     "text": [
      "100%|██████████| 2198/2198 [00:06<00:00, 318.11it/s]\n"
     ]
    },
    {
     "name": "stdout",
     "output_type": "stream",
     "text": [
      "Epoch#1: Train Average Loss = 0.76076\n",
      "Validation score improved (-inf --> 0.90461).  Saving model ...\n"
     ]
    },
    {
     "name": "stderr",
     "output_type": "stream",
     "text": [
      "100%|██████████| 2198/2198 [00:08<00:00, 270.70it/s]\n"
     ]
    },
    {
     "name": "stdout",
     "output_type": "stream",
     "text": [
      "Epoch#2: Train Average Loss = 0.67506\n",
      "Validation score improved (0.90461 --> 0.91148).  Saving model ...\n"
     ]
    },
    {
     "name": "stderr",
     "output_type": "stream",
     "text": [
      "100%|██████████| 2198/2198 [00:07<00:00, 288.30it/s]\n"
     ]
    },
    {
     "name": "stdout",
     "output_type": "stream",
     "text": [
      "Epoch#3: Train Average Loss = 0.63983\n",
      "EarlyStopping counter: 1 out of 6. Current validation score: 0.90786\n"
     ]
    },
    {
     "name": "stderr",
     "output_type": "stream",
     "text": [
      "100%|██████████| 2198/2198 [00:07<00:00, 291.31it/s]\n"
     ]
    },
    {
     "name": "stdout",
     "output_type": "stream",
     "text": [
      "Epoch#4: Train Average Loss = 0.62683\n",
      "EarlyStopping counter: 2 out of 6. Current validation score: 0.90680\n"
     ]
    },
    {
     "name": "stderr",
     "output_type": "stream",
     "text": [
      "100%|██████████| 2198/2198 [00:07<00:00, 283.50it/s]\n"
     ]
    },
    {
     "name": "stdout",
     "output_type": "stream",
     "text": [
      "Epoch#5: Train Average Loss = 0.61967\n",
      "EarlyStopping counter: 3 out of 6. Current validation score: 0.90624\n"
     ]
    },
    {
     "name": "stderr",
     "output_type": "stream",
     "text": [
      "100%|██████████| 2198/2198 [00:07<00:00, 278.22it/s]\n"
     ]
    },
    {
     "name": "stdout",
     "output_type": "stream",
     "text": [
      "Epoch#6: Train Average Loss = 0.61154\n",
      "EarlyStopping counter: 4 out of 6. Current validation score: 0.90648\n"
     ]
    },
    {
     "name": "stderr",
     "output_type": "stream",
     "text": [
      "100%|██████████| 2198/2198 [00:08<00:00, 274.28it/s]\n"
     ]
    },
    {
     "name": "stdout",
     "output_type": "stream",
     "text": [
      "Epoch#7: Train Average Loss = 0.60385\n",
      "EarlyStopping counter: 5 out of 6. Current validation score: 0.90816\n"
     ]
    },
    {
     "name": "stderr",
     "output_type": "stream",
     "text": [
      "100%|██████████| 2198/2198 [00:07<00:00, 278.28it/s]\n"
     ]
    },
    {
     "name": "stdout",
     "output_type": "stream",
     "text": [
      "Epoch#8: Train Average Loss = 0.59776\n",
      "EarlyStopping counter: 6 out of 6. Current validation score: 0.90880\n"
     ]
    },
    {
     "name": "stderr",
     "output_type": "stream",
     "text": [
      "100%|██████████| 2198/2198 [00:08<00:00, 259.75it/s]\n"
     ]
    },
    {
     "name": "stdout",
     "output_type": "stream",
     "text": [
      "Epoch#9: Train Average Loss = 0.59318\n",
      "EarlyStopping counter: 7 out of 6. Current validation score: 0.90852\n",
      "Stopped by early stopping at epoch 9\n"
     ]
    }
   ],
   "source": [
    "# # HIDDEN_LAYERS_DIM2 = (45, 40, 35, 25, 15, 10, 15, 25, 35, 40, 45)   # AUC=0.85780\n",
    "# # HIDDEN_LAYERS_DIM3 = (35, 20, 10, 20, 30)                           # AUC=0.85265\n",
    "# # HIDDEN_LAYERS_DIM4 = (32, 16, 8, 16, 32)                            # AUC=0.86286\n",
    "# # HIDDEN_LAYERS_DIM5 = (32, 16, 5, 16, 32)                            # AUC=0.87752\n",
    "\n",
    "# model_ae_MajBa = Autoencoder(in_features=X_train_benign_norm.shape[1], \n",
    "#                        hidden_layers_dims=HIDDEN_LAYERS_DIM,\n",
    "#                        dropout_rate=0.0)\n",
    "# model_ae_MajBa.compile(learning_rate=LEARNING_RATE, weight_decay=WEIGHT_DECAY)\n",
    "# model_ae_MajBa, train_avg_losses_MajBa, val_avg_losses_MajBa = model_ae_MajBa.fit(\n",
    "#                                                 X_train=X_train_benign_norm,\n",
    "#                                                 num_epochs= NUM_EPOCHS,\n",
    "#                                                 batch_size=BATCH_SIZE,\n",
    "#                                                 X_val=X_val_norm,\n",
    "#                                                 y_val=y_val,\n",
    "#                                                 patience=PATIENCE,\n",
    "#                                                 delta=DELTA,\n",
    "#                                                 es_criterion='aucroc'\n",
    "#                                             )"
   ]
  },
  {
   "cell_type": "code",
   "execution_count": 10,
   "metadata": {},
   "outputs": [],
   "source": [
    "model_ae_MajBa = torch.load('../experiments/model_ae_MajBa.pt')"
   ]
  },
  {
   "cell_type": "code",
   "execution_count": 12,
   "metadata": {},
   "outputs": [
    {
     "data": {
      "image/png": "[encoded data removed]",
      "text/plain": [
       "<Figure size 640x480 with 1 Axes>"
      ]
     },
     "metadata": {},
     "output_type": "display_data"
    }
   ],
   "source": [
    "# def plot_train_val_losses(train_avg_losses, val_avg_losses):\n",
    "#   epochs = list(range(1, len(train_avg_losses)+1))\n",
    "#   plt.plot(epochs, train_avg_losses, color='blue', label='Train loss')\n",
    "#   plt.plot(epochs, val_avg_losses, color='orange', label='Validation loss')\n",
    "#   plt.title('Train and val losses per epoch')\n",
    "#   plt.legend()\n",
    "\n",
    "# plot_train_val_losses(train_avg_losses_MajBa, val_avg_losses_MajBa)"
   ]
  },
  {
   "cell_type": "markdown",
   "metadata": {},
   "source": [
    "# Defining a threshold and computing results"
   ]
  },
  {
   "cell_type": "code",
   "execution_count": 11,
   "metadata": {},
   "outputs": [],
   "source": [
    "def get_autoencoder_anomaly_scores(model_ae, X):\n",
    "  X = torch.FloatTensor(X)\n",
    "  reconstructed_X = model_ae(X)\n",
    "  anomaly_scores = torch.mean(torch.pow(X - reconstructed_X, 2), axis=1).detach().numpy() # MSELoss\n",
    "  return anomaly_scores"
   ]
  },
  {
   "cell_type": "markdown",
   "metadata": {},
   "source": [
    "### Validation Set"
   ]
  },
  {
   "cell_type": "code",
   "execution_count": 15,
   "metadata": {},
   "outputs": [
    {
     "data": {
      "image/png": "[encoded data removed]",
      "text/plain": [
       "<Figure size 640x480 with 1 Axes>"
      ]
     },
     "metadata": {},
     "output_type": "display_data"
    }
   ],
   "source": [
    "val_anomaly_scores_MajBa = get_autoencoder_anomaly_scores(model_ae_MajBa, X_val_norm)\n",
    "plot_roc_curve(y_val, val_anomaly_scores_MajBa)"
   ]
  },
  {
   "cell_type": "code",
   "execution_count": 16,
   "metadata": {},
   "outputs": [],
   "source": [
    "fpr, tpr, thresholds = roc_curve(y_val, val_anomaly_scores_MajBa)\n",
    "df_val_roc = pd.DataFrame({'fpr':fpr, 'tpr':tpr, 'thresholds':thresholds})\n",
    "df_val_roc['youden-index'] = df_val_roc['tpr'] - df_val_roc['fpr']\n",
    "BEST_VALIDATION_THRESHOLD_AXAM = df_val_roc.sort_values('youden-index', ascending=False).drop_duplicates('fpr').iloc[0]['thresholds']"
   ]
  },
  {
   "cell_type": "code",
   "execution_count": 17,
   "metadata": {},
   "outputs": [
    {
     "data": {
      "text/plain": [
       "{'acc': 0.8362983255845676,\n",
       " 'tpr': 0.856995121239035,\n",
       " 'fpr': 0.18184727303757905,\n",
       " 'precision': 0.8051367631762433,\n",
       " 'f1-score': 0.8302569542668552}"
      ]
     },
     "execution_count": 17,
     "metadata": {},
     "output_type": "execute_result"
    }
   ],
   "source": [
    "get_overall_metrics(y_val, val_anomaly_scores_MajBa > BEST_VALIDATION_THRESHOLD_AXAM)"
   ]
  },
  {
   "cell_type": "markdown",
   "metadata": {},
   "source": [
    "### Test set"
   ]
  },
  {
   "cell_type": "code",
   "execution_count": 12,
   "metadata": {},
   "outputs": [
    {
     "data": {
      "image/png": "[encoded data removed]",
      "text/plain": [
       "<Figure size 640x480 with 1 Axes>"
      ]
     },
     "metadata": {},
     "output_type": "display_data"
    }
   ],
   "source": [
    "test_anomaly_scores_MajBa = get_autoencoder_anomaly_scores(model_ae_MajBa, X_test_norm)\n",
    "plot_roc_curve(y_test, test_anomaly_scores_MajBa)"
   ]
  },
  {
   "cell_type": "code",
   "execution_count": 21,
   "metadata": {},
   "outputs": [
    {
     "data": {
      "text/plain": [
       "{'acc': 0.8345368515281981,\n",
       " 'tpr': 0.8560543845241354,\n",
       " 'fpr': 0.184328,\n",
       " 'precision': 0.802825700006846,\n",
       " 'f1-score': 0.8285860646688394}"
      ]
     },
     "execution_count": 21,
     "metadata": {},
     "output_type": "execute_result"
    }
   ],
   "source": [
    "get_overall_metrics(y_test, test_anomaly_scores_MajBa > BEST_VALIDATION_THRESHOLD_AXAM)"
   ]
  },
  {
   "cell_type": "code",
   "execution_count": 13,
   "metadata": {},
   "outputs": [],
   "source": [
    "# best_possible_test_threshold\n",
    "\n",
    "fpr, tpr, thresholds = roc_curve(y_test, test_anomaly_scores_MajBa)\n",
    "df_val_roc = pd.DataFrame({'fpr':fpr, 'tpr':tpr, 'thresholds':thresholds})\n",
    "df_val_roc['youden-index'] = df_val_roc['tpr'] - df_val_roc['fpr']\n",
    "best_possible_test_threshold_AxAm = df_val_roc.sort_values('youden-index', ascending=False).query('fpr < 0.01').iloc[0]['thresholds']"
   ]
  },
  {
   "cell_type": "code",
   "execution_count": 14,
   "metadata": {},
   "outputs": [
    {
     "data": {
      "text/plain": [
       "{'acc': 0.6309390852124984,\n",
       " 'tpr': 0.22137968792773063,\n",
       " 'fpr': 0.009992,\n",
       " 'precision': 0.9510388083104665,\n",
       " 'f1-score': 0.3591561806069578}"
      ]
     },
     "execution_count": 14,
     "metadata": {},
     "output_type": "execute_result"
    }
   ],
   "source": [
    "get_overall_metrics(y_test, test_anomaly_scores_MajBa > best_possible_test_threshold_AxAm)"
   ]
  },
  {
   "cell_type": "code",
   "execution_count": null,
   "metadata": {},
   "outputs": [],
   "source": []
  }
 ],
 "metadata": {
  "kernelspec": {
   "display_name": "ae_dga_detection",
   "language": "python",
   "name": "python3"
  },
  "language_info": {
   "codemirror_mode": {
    "name": "ipython",
    "version": 3
   },
   "file_extension": ".py",
   "mimetype": "text/x-python",
   "name": "python",
   "nbconvert_exporter": "python",
   "pygments_lexer": "ipython3",
   "version": "3.12.2"
  }
 },
 "nbformat": 4,
 "nbformat_minor": 2
}
