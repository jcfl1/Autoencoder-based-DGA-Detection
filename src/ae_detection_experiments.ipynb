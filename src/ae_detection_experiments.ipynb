{
 "cells": [
  {
   "cell_type": "code",
   "execution_count": 1,
   "metadata": {},
   "outputs": [],
   "source": [
    "from autoencoder import Autoencoder\n",
    "from compute_results import plot_roc_curve, get_overall_metrics\n",
    "import pandas as pd\n",
    "import numpy as np\n",
    "import random\n",
    "import matplotlib.pyplot as plt\n",
    "from sklearn.metrics import roc_curve\n",
    "import torch\n",
    "import os"
   ]
  },
  {
   "cell_type": "code",
   "execution_count": 2,
   "metadata": {},
   "outputs": [],
   "source": [
    "RANDOM_SEED = 33\n",
    "torch.manual_seed(RANDOM_SEED)\n",
    "np.random.seed(RANDOM_SEED)\n",
    "random.seed(RANDOM_SEED)"
   ]
  },
  {
   "cell_type": "markdown",
   "metadata": {},
   "source": [
    "# Importing preprocessed data"
   ]
  },
  {
   "cell_type": "code",
   "execution_count": 3,
   "metadata": {},
   "outputs": [],
   "source": [
    "PATH_TRAIN_AXAM_CSV = '../data/train_AxAm_preprocessed.csv'\n",
    "PATH_TRAIN_AMAM_CSV = '../data/train_AmAm_preprocessed.csv'\n",
    "PATH_VAL_CSV = '../data/val_preprocessed.csv'\n",
    "PATH_TEST_CSV = '../data/test_preprocessed.csv'\n",
    "\n",
    "df_train_AxAm = pd.read_csv(PATH_TRAIN_AXAM_CSV)\n",
    "df_train_AmAm = pd.read_csv(PATH_TRAIN_AMAM_CSV)\n",
    "df_val = pd.read_csv(PATH_VAL_CSV)\n",
    "df_test = pd.read_csv(PATH_TEST_CSV)"
   ]
  },
  {
   "cell_type": "code",
   "execution_count": 4,
   "metadata": {},
   "outputs": [],
   "source": [
    "def split_features_labels_and_domains_columns(df):\n",
    "    X = df.drop(['domain', 'label'], axis='columns')\n",
    "    y = df['label']\n",
    "    domains = df['domain']\n",
    "    return X,y,domains\n",
    "\n",
    "X_train_AxAm, y_train_AxAm, domains_train_AxAm = split_features_labels_and_domains_columns(df_train_AxAm)\n",
    "X_train_AmAm, y_train_AmAm, domains_train_AmAm = split_features_labels_and_domains_columns(df_train_AmAm)\n",
    "X_val, y_val, domains_val = split_features_labels_and_domains_columns(df_val)\n",
    "X_test, y_test, domains_test = split_features_labels_and_domains_columns(df_test)"
   ]
  },
  {
   "cell_type": "markdown",
   "metadata": {},
   "source": [
    "## Preparing autoencoder training data"
   ]
  },
  {
   "cell_type": "markdown",
   "metadata": {},
   "source": [
    "We must remove malicious instances for autoencoder training"
   ]
  },
  {
   "cell_type": "code",
   "execution_count": 5,
   "metadata": {},
   "outputs": [],
   "source": [
    "X_train_AxAm_benign = X_train_AxAm[y_train_AxAm == 0].reset_index(drop=True)\n",
    "X_train_AmAm_benign = X_train_AmAm[y_train_AmAm == 0].reset_index(drop=True)"
   ]
  },
  {
   "cell_type": "code",
   "execution_count": 6,
   "metadata": {},
   "outputs": [
    {
     "data": {
      "text/plain": [
       "((480000, 47), (655683, 47))"
      ]
     },
     "execution_count": 6,
     "metadata": {},
     "output_type": "execute_result"
    }
   ],
   "source": [
    "X_train_AxAm_benign.shape, X_train_AmAm_benign.shape"
   ]
  },
  {
   "cell_type": "markdown",
   "metadata": {},
   "source": [
    "Normalizing"
   ]
  },
  {
   "cell_type": "code",
   "execution_count": 7,
   "metadata": {},
   "outputs": [],
   "source": [
    "from sklearn.preprocessing import StandardScaler\n",
    "\n",
    "# For AxAm training set\n",
    "std_scaler_AxAm = StandardScaler()\n",
    "std_scaler_AxAm = std_scaler_AxAm.fit(X_train_AxAm_benign)\n",
    "\n",
    "X_train_AxAm_benign_norm = std_scaler_AxAm.transform(X_train_AxAm_benign)\n",
    "X_val_AxAm_norm = std_scaler_AxAm.transform(X_val)\n",
    "X_test_AxAm_norm = std_scaler_AxAm.transform(X_test)\n",
    "\n",
    "X_train_AxAm_benign_norm = torch.tensor(X_train_AxAm_benign_norm, dtype=torch.float32)\n",
    "X_val_AxAm_norm = torch.tensor(X_val_AxAm_norm, dtype=torch.float32)\n",
    "X_test_AxAm_norm = torch.tensor(X_test_AxAm_norm, dtype=torch.float32)"
   ]
  },
  {
   "cell_type": "code",
   "execution_count": 8,
   "metadata": {},
   "outputs": [],
   "source": [
    "# # For AmAm training set\n",
    "std_scaler_AmAm = StandardScaler()\n",
    "std_scaler_AmAm = std_scaler_AmAm.fit(X_train_AmAm_benign)\n",
    "\n",
    "X_train_AmAm_benign_norm = std_scaler_AmAm.transform(X_train_AmAm_benign)\n",
    "X_val_AmAm_norm = std_scaler_AmAm.transform(X_val)\n",
    "X_test_AmAm_norm = std_scaler_AmAm.transform(X_test)\n",
    "\n",
    "X_train_AmAm_benign_norm = torch.tensor(X_train_AmAm_benign_norm, dtype=torch.float32)\n",
    "X_val_AmAm_norm = torch.tensor(X_val_AmAm_norm, dtype=torch.float32)\n",
    "X_test_AmAm_norm = torch.tensor(X_test_AmAm_norm, dtype=torch.float32)"
   ]
  },
  {
   "cell_type": "markdown",
   "metadata": {},
   "source": [
    "# Modelling with Autoencoder"
   ]
  },
  {
   "cell_type": "code",
   "execution_count": 9,
   "metadata": {},
   "outputs": [],
   "source": [
    "HIDDEN_LAYERS_DIM = (40, 35, 25, 15, 10, 15, 25, 35, 40)\n",
    "LEARNING_RATE = 4e-4\n",
    "WEIGHT_DECAY = 1e-4\n",
    "NUM_EPOCHS = 45\n",
    "BATCH_SIZE = 128\n",
    "PATIENCE = 6\n",
    "DELTA = 0.002"
   ]
  },
  {
   "cell_type": "markdown",
   "metadata": {},
   "source": [
    "## Training with AxAm dataset"
   ]
  },
  {
   "cell_type": "code",
   "execution_count": 10,
   "metadata": {},
   "outputs": [
    {
     "name": "stdout",
     "output_type": "stream",
     "text": [
      "Using early stopping with patience=6, delta=0.002 and es_criterion=aucroc\n"
     ]
    },
    {
     "name": "stderr",
     "output_type": "stream",
     "text": [
      "100%|██████████| 3750/3750 [00:16<00:00, 232.89it/s]\n"
     ]
    },
    {
     "name": "stdout",
     "output_type": "stream",
     "text": [
      "Epoch#1: Train Average Loss = 0.61672\n",
      "Validation score improved (-inf --> 0.81948).  Saving model ...\n"
     ]
    },
    {
     "name": "stderr",
     "output_type": "stream",
     "text": [
      "100%|██████████| 3750/3750 [00:11<00:00, 326.51it/s]\n"
     ]
    },
    {
     "name": "stdout",
     "output_type": "stream",
     "text": [
      "Epoch#2: Train Average Loss = 0.51787\n",
      "Validation score improved (0.81948 --> 0.82185).  Saving model ...\n"
     ]
    },
    {
     "name": "stderr",
     "output_type": "stream",
     "text": [
      "100%|██████████| 3750/3750 [00:22<00:00, 168.96it/s]\n"
     ]
    },
    {
     "name": "stdout",
     "output_type": "stream",
     "text": [
      "Epoch#3: Train Average Loss = 0.48777\n",
      "EarlyStopping counter: 1 out of 6. Current validation score: 0.81456\n"
     ]
    },
    {
     "name": "stderr",
     "output_type": "stream",
     "text": [
      "100%|██████████| 3750/3750 [00:21<00:00, 176.01it/s]\n"
     ]
    },
    {
     "name": "stdout",
     "output_type": "stream",
     "text": [
      "Epoch#4: Train Average Loss = 0.46697\n",
      "EarlyStopping counter: 2 out of 6. Current validation score: 0.80325\n"
     ]
    },
    {
     "name": "stderr",
     "output_type": "stream",
     "text": [
      "100%|██████████| 3750/3750 [00:20<00:00, 181.76it/s]\n"
     ]
    },
    {
     "name": "stdout",
     "output_type": "stream",
     "text": [
      "Epoch#5: Train Average Loss = 0.43598\n",
      "EarlyStopping counter: 3 out of 6. Current validation score: 0.79802\n"
     ]
    },
    {
     "name": "stderr",
     "output_type": "stream",
     "text": [
      "100%|██████████| 3750/3750 [00:23<00:00, 161.95it/s]\n"
     ]
    },
    {
     "name": "stdout",
     "output_type": "stream",
     "text": [
      "Epoch#6: Train Average Loss = 0.42480\n",
      "EarlyStopping counter: 4 out of 6. Current validation score: 0.79582\n"
     ]
    },
    {
     "name": "stderr",
     "output_type": "stream",
     "text": [
      "100%|██████████| 3750/3750 [00:24<00:00, 152.88it/s]\n"
     ]
    },
    {
     "name": "stdout",
     "output_type": "stream",
     "text": [
      "Epoch#7: Train Average Loss = 0.41830\n",
      "EarlyStopping counter: 5 out of 6. Current validation score: 0.79631\n"
     ]
    },
    {
     "name": "stderr",
     "output_type": "stream",
     "text": [
      "100%|██████████| 3750/3750 [00:25<00:00, 146.72it/s]\n"
     ]
    },
    {
     "name": "stdout",
     "output_type": "stream",
     "text": [
      "Epoch#8: Train Average Loss = 0.41368\n",
      "EarlyStopping counter: 6 out of 6. Current validation score: 0.79604\n"
     ]
    },
    {
     "name": "stderr",
     "output_type": "stream",
     "text": [
      "100%|██████████| 3750/3750 [00:30<00:00, 124.94it/s]\n"
     ]
    },
    {
     "name": "stdout",
     "output_type": "stream",
     "text": [
      "Epoch#9: Train Average Loss = 0.41020\n",
      "EarlyStopping counter: 7 out of 6. Current validation score: 0.79460\n",
      "Stopped by early stopping at epoch 9\n"
     ]
    }
   ],
   "source": [
    "# HIDDEN_LAYERS_DIM2 = (45, 40, 35, 25, 15, 10, 15, 25, 35, 40, 45)   # AUC=0.85780\n",
    "# HIDDEN_LAYERS_DIM3 = (35, 20, 10, 20, 30)                           # AUC=0.85265\n",
    "# HIDDEN_LAYERS_DIM4 = (32, 16, 8, 16, 32)                            # AUC=0.86286\n",
    "# HIDDEN_LAYERS_DIM5 = (32, 16, 5, 16, 32)                            # AUC=0.87752\n",
    "\n",
    "model_ae_AxAm = Autoencoder(in_features=X_train_AxAm.shape[1], \n",
    "                       hidden_layers_dims=HIDDEN_LAYERS_DIM,\n",
    "                       dropout_rate=0.0)\n",
    "model_ae_AxAm.compile(learning_rate=LEARNING_RATE, weight_decay=WEIGHT_DECAY)\n",
    "model_ae_AxAm, train_avg_losses_AxAm, val_avg_losses_AxAm = model_ae_AxAm.fit(\n",
    "                                                X_train=X_train_AxAm_benign_norm,\n",
    "                                                num_epochs= NUM_EPOCHS,\n",
    "                                                batch_size=BATCH_SIZE,\n",
    "                                                X_val=X_val_AxAm_norm,\n",
    "                                                y_val=y_val,\n",
    "                                                patience=PATIENCE,\n",
    "                                                delta=DELTA,\n",
    "                                                es_criterion='aucroc'\n",
    "                                            )"
   ]
  },
  {
   "cell_type": "code",
   "execution_count": 11,
   "metadata": {},
   "outputs": [
    {
     "data": {
      "image/png": "[encoded data removed]",
      "text/plain": [
       "<Figure size 640x480 with 1 Axes>"
      ]
     },
     "metadata": {},
     "output_type": "display_data"
    }
   ],
   "source": [
    "def plot_train_val_losses(train_avg_losses, val_avg_losses):\n",
    "  epochs = list(range(1, len(train_avg_losses)+1))\n",
    "  plt.plot(epochs, train_avg_losses, color='blue', label='Train loss')\n",
    "  plt.plot(epochs, val_avg_losses, color='orange', label='Validation loss')\n",
    "  plt.title('Train and val losses per epoch')\n",
    "  plt.legend()\n",
    "\n",
    "plot_train_val_losses(train_avg_losses_AxAm, val_avg_losses_AxAm)"
   ]
  },
  {
   "cell_type": "markdown",
   "metadata": {},
   "source": [
    "## Training with AmAm dataset"
   ]
  },
  {
   "cell_type": "code",
   "execution_count": 12,
   "metadata": {},
   "outputs": [
    {
     "name": "stdout",
     "output_type": "stream",
     "text": [
      "Using early stopping with patience=6, delta=0.002 and es_criterion=aucroc\n"
     ]
    },
    {
     "name": "stderr",
     "output_type": "stream",
     "text": [
      "100%|██████████| 5123/5123 [00:19<00:00, 259.03it/s]\n"
     ]
    },
    {
     "name": "stdout",
     "output_type": "stream",
     "text": [
      "Epoch#1: Train Average Loss = 1.00018\n",
      "Validation score improved (-inf --> 0.74428).  Saving model ...\n"
     ]
    },
    {
     "name": "stderr",
     "output_type": "stream",
     "text": [
      "100%|██████████| 5123/5123 [00:23<00:00, 220.31it/s]\n"
     ]
    },
    {
     "name": "stdout",
     "output_type": "stream",
     "text": [
      "Epoch#2: Train Average Loss = 1.00008\n",
      "EarlyStopping counter: 1 out of 6. Current validation score: 0.74433\n"
     ]
    },
    {
     "name": "stderr",
     "output_type": "stream",
     "text": [
      "100%|██████████| 5123/5123 [00:22<00:00, 229.39it/s]\n"
     ]
    },
    {
     "name": "stdout",
     "output_type": "stream",
     "text": [
      "Epoch#3: Train Average Loss = 1.00007\n",
      "EarlyStopping counter: 2 out of 6. Current validation score: 0.74435\n"
     ]
    },
    {
     "name": "stderr",
     "output_type": "stream",
     "text": [
      "100%|██████████| 5123/5123 [00:20<00:00, 247.99it/s]\n"
     ]
    },
    {
     "name": "stdout",
     "output_type": "stream",
     "text": [
      "Epoch#4: Train Average Loss = 1.00006\n",
      "EarlyStopping counter: 3 out of 6. Current validation score: 0.74435\n"
     ]
    },
    {
     "name": "stderr",
     "output_type": "stream",
     "text": [
      "100%|██████████| 5123/5123 [00:20<00:00, 252.28it/s]\n"
     ]
    },
    {
     "name": "stdout",
     "output_type": "stream",
     "text": [
      "Epoch#5: Train Average Loss = 1.00006\n",
      "EarlyStopping counter: 4 out of 6. Current validation score: 0.74434\n"
     ]
    },
    {
     "name": "stderr",
     "output_type": "stream",
     "text": [
      "100%|██████████| 5123/5123 [00:20<00:00, 252.90it/s]\n"
     ]
    },
    {
     "name": "stdout",
     "output_type": "stream",
     "text": [
      "Epoch#6: Train Average Loss = 1.00005\n",
      "EarlyStopping counter: 5 out of 6. Current validation score: 0.74435\n"
     ]
    },
    {
     "name": "stderr",
     "output_type": "stream",
     "text": [
      "100%|██████████| 5123/5123 [00:22<00:00, 230.38it/s]\n"
     ]
    },
    {
     "name": "stdout",
     "output_type": "stream",
     "text": [
      "Epoch#7: Train Average Loss = 1.00005\n",
      "EarlyStopping counter: 6 out of 6. Current validation score: 0.74435\n"
     ]
    },
    {
     "name": "stderr",
     "output_type": "stream",
     "text": [
      "100%|██████████| 5123/5123 [00:21<00:00, 237.29it/s]\n"
     ]
    },
    {
     "name": "stdout",
     "output_type": "stream",
     "text": [
      "Epoch#8: Train Average Loss = 1.00005\n",
      "EarlyStopping counter: 7 out of 6. Current validation score: 0.74435\n",
      "Stopped by early stopping at epoch 8\n"
     ]
    }
   ],
   "source": [
    "model_ae_AmAm = Autoencoder(in_features=X_train_AmAm.shape[1], \n",
    "                       hidden_layers_dims=HIDDEN_LAYERS_DIM,\n",
    "                       dropout_rate=0.0)\n",
    "model_ae_AmAm.compile(learning_rate=LEARNING_RATE, weight_decay=WEIGHT_DECAY)\n",
    "model_ae_AmAm, train_avg_losses_AmAm, val_avg_losses_AmAm = model_ae_AmAm.fit(\n",
    "                                                X_train=X_train_AmAm_benign_norm,\n",
    "                                                num_epochs= NUM_EPOCHS,\n",
    "                                                batch_size=BATCH_SIZE,\n",
    "                                                X_val=X_val_AmAm_norm,\n",
    "                                                y_val=y_val,\n",
    "                                                patience=PATIENCE,\n",
    "                                                delta=DELTA,\n",
    "                                                es_criterion='aucroc'\n",
    "                                            )"
   ]
  },
  {
   "cell_type": "code",
   "execution_count": 13,
   "metadata": {},
   "outputs": [
    {
     "data": {
      "image/png": "[encoded data removed]",
      "text/plain": [
       "<Figure size 640x480 with 1 Axes>"
      ]
     },
     "metadata": {},
     "output_type": "display_data"
    }
   ],
   "source": [
    "plot_train_val_losses(train_avg_losses_AmAm, val_avg_losses_AmAm)"
   ]
  },
  {
   "cell_type": "markdown",
   "metadata": {},
   "source": [
    "# Defining a threshold and computing results"
   ]
  },
  {
   "cell_type": "code",
   "execution_count": 14,
   "metadata": {},
   "outputs": [],
   "source": [
    "def get_autoencoder_anomaly_scores(model_ae, X):\n",
    "  X = torch.FloatTensor(X)\n",
    "  reconstructed_X = model_ae(X)\n",
    "  anomaly_scores = torch.mean(torch.pow(X - reconstructed_X, 2), axis=1).detach().numpy() # MSELoss\n",
    "  return anomaly_scores"
   ]
  },
  {
   "cell_type": "markdown",
   "metadata": {},
   "source": [
    "## AxAm dataset used as train"
   ]
  },
  {
   "cell_type": "markdown",
   "metadata": {},
   "source": [
    "### Validation Set"
   ]
  },
  {
   "cell_type": "code",
   "execution_count": 15,
   "metadata": {},
   "outputs": [
    {
     "data": {
      "image/png": "[encoded data removed]",
      "text/plain": [
       "<Figure size 640x480 with 1 Axes>"
      ]
     },
     "metadata": {},
     "output_type": "display_data"
    }
   ],
   "source": [
    "val_anomaly_scores_AxAm = get_autoencoder_anomaly_scores(model_ae_AxAm, X_val_AxAm_norm)\n",
    "plot_roc_curve(y_val, val_anomaly_scores_AxAm)"
   ]
  },
  {
   "cell_type": "code",
   "execution_count": 16,
   "metadata": {},
   "outputs": [],
   "source": [
    "fpr, tpr, thresholds = roc_curve(y_val, val_anomaly_scores_AxAm)\n",
    "df_val_roc = pd.DataFrame({'fpr':fpr, 'tpr':tpr, 'thresholds':thresholds})\n",
    "df_val_roc['youden-index'] = df_val_roc['tpr'] - df_val_roc['fpr']\n",
    "BEST_VALIDATION_THRESHOLD_AXAM = df_val_roc.sort_values('youden-index', ascending=False).drop_duplicates('fpr').iloc[0]['thresholds']"
   ]
  },
  {
   "cell_type": "code",
   "execution_count": 17,
   "metadata": {},
   "outputs": [
    {
     "data": {
      "text/plain": [
       "{'acc': 0.7233307692307692,\n",
       " 'tpr': 0.7909,\n",
       " 'fpr': 0.29694,\n",
       " 'precision': 0.4441511765036222,\n",
       " 'f1-score': 0.5688495702520947}"
      ]
     },
     "execution_count": 17,
     "metadata": {},
     "output_type": "execute_result"
    }
   ],
   "source": [
    "get_overall_metrics(y_val, val_anomaly_scores_AxAm > BEST_VALIDATION_THRESHOLD_AXAM)"
   ]
  },
  {
   "cell_type": "markdown",
   "metadata": {},
   "source": [
    "### Test set"
   ]
  },
  {
   "cell_type": "code",
   "execution_count": 18,
   "metadata": {},
   "outputs": [
    {
     "data": {
      "image/png": "[encoded data removed]",
      "text/plain": [
       "<Figure size 640x480 with 1 Axes>"
      ]
     },
     "metadata": {},
     "output_type": "display_data"
    }
   ],
   "source": [
    "test_anomaly_scores_AxAm = get_autoencoder_anomaly_scores(model_ae_AxAm, X_test_AxAm_norm)\n",
    "plot_roc_curve(y_test, test_anomaly_scores_AxAm)"
   ]
  },
  {
   "cell_type": "code",
   "execution_count": 19,
   "metadata": {},
   "outputs": [
    {
     "data": {
      "text/plain": [
       "{'acc': 0.8065,\n",
       " 'tpr': 0.801,\n",
       " 'fpr': 0.1928888888888889,\n",
       " 'precision': 0.31572723689396925,\n",
       " 'f1-score': 0.4529262086513995}"
      ]
     },
     "execution_count": 19,
     "metadata": {},
     "output_type": "execute_result"
    }
   ],
   "source": [
    "get_overall_metrics(y_test, test_anomaly_scores_AxAm > BEST_VALIDATION_THRESHOLD_AXAM)"
   ]
  },
  {
   "cell_type": "code",
   "execution_count": 20,
   "metadata": {},
   "outputs": [],
   "source": [
    "# best_possible_test_threshold\n",
    "\n",
    "fpr, tpr, thresholds = roc_curve(y_test, test_anomaly_scores_AxAm)\n",
    "df_val_roc = pd.DataFrame({'fpr':fpr, 'tpr':tpr, 'thresholds':thresholds})\n",
    "df_val_roc['youden-index'] = df_val_roc['tpr'] - df_val_roc['fpr']\n",
    "best_possible_test_threshold_AxAm = df_val_roc.sort_values('youden-index', ascending=False).drop_duplicates('fpr').iloc[0]['thresholds']"
   ]
  },
  {
   "cell_type": "code",
   "execution_count": 21,
   "metadata": {},
   "outputs": [
    {
     "data": {
      "text/plain": [
       "{'acc': 0.7999,\n",
       " 'tpr': 0.813,\n",
       " 'fpr': 0.20155555555555554,\n",
       " 'precision': 0.30947849257708415,\n",
       " 'f1-score': 0.44830438378825477}"
      ]
     },
     "execution_count": 21,
     "metadata": {},
     "output_type": "execute_result"
    }
   ],
   "source": [
    "get_overall_metrics(y_test, test_anomaly_scores_AxAm > best_possible_test_threshold_AxAm)"
   ]
  },
  {
   "cell_type": "markdown",
   "metadata": {},
   "source": [
    "## AmAm dataset used as train"
   ]
  },
  {
   "cell_type": "markdown",
   "metadata": {},
   "source": [
    "### Validation Set"
   ]
  },
  {
   "cell_type": "code",
   "execution_count": 22,
   "metadata": {},
   "outputs": [
    {
     "data": {
      "image/png": "[encoded data removed]",
      "text/plain": [
       "<Figure size 640x480 with 1 Axes>"
      ]
     },
     "metadata": {},
     "output_type": "display_data"
    }
   ],
   "source": [
    "val_anomaly_scores_AmAm = get_autoencoder_anomaly_scores(model_ae_AmAm, X_val_AmAm_norm)\n",
    "plot_roc_curve(y_val, val_anomaly_scores_AmAm)"
   ]
  },
  {
   "cell_type": "code",
   "execution_count": 23,
   "metadata": {},
   "outputs": [
    {
     "data": {
      "text/html": [
       "<div>\n",
       "<style scoped>\n",
       "    .dataframe tbody tr th:only-of-type {\n",
       "        vertical-align: middle;\n",
       "    }\n",
       "\n",
       "    .dataframe tbody tr th {\n",
       "        vertical-align: top;\n",
       "    }\n",
       "\n",
       "    .dataframe thead th {\n",
       "        text-align: right;\n",
       "    }\n",
       "</style>\n",
       "<table border=\"1\" class=\"dataframe\">\n",
       "  <thead>\n",
       "    <tr style=\"text-align: right;\">\n",
       "      <th></th>\n",
       "      <th>fpr</th>\n",
       "      <th>tpr</th>\n",
       "      <th>thresholds</th>\n",
       "      <th>youden-index</th>\n",
       "    </tr>\n",
       "  </thead>\n",
       "  <tbody>\n",
       "    <tr>\n",
       "      <th>29935</th>\n",
       "      <td>0.41410</td>\n",
       "      <td>0.817300</td>\n",
       "      <td>0.801011</td>\n",
       "      <td>0.403200</td>\n",
       "    </tr>\n",
       "    <tr>\n",
       "      <th>29899</th>\n",
       "      <td>0.41335</td>\n",
       "      <td>0.816533</td>\n",
       "      <td>0.802276</td>\n",
       "      <td>0.403183</td>\n",
       "    </tr>\n",
       "    <tr>\n",
       "      <th>29897</th>\n",
       "      <td>0.41332</td>\n",
       "      <td>0.816500</td>\n",
       "      <td>0.802319</td>\n",
       "      <td>0.403180</td>\n",
       "    </tr>\n",
       "    <tr>\n",
       "      <th>29931</th>\n",
       "      <td>0.41399</td>\n",
       "      <td>0.817167</td>\n",
       "      <td>0.801216</td>\n",
       "      <td>0.403177</td>\n",
       "    </tr>\n",
       "    <tr>\n",
       "      <th>29933</th>\n",
       "      <td>0.41406</td>\n",
       "      <td>0.817233</td>\n",
       "      <td>0.801063</td>\n",
       "      <td>0.403173</td>\n",
       "    </tr>\n",
       "    <tr>\n",
       "      <th>...</th>\n",
       "      <td>...</td>\n",
       "      <td>...</td>\n",
       "      <td>...</td>\n",
       "      <td>...</td>\n",
       "    </tr>\n",
       "    <tr>\n",
       "      <th>246</th>\n",
       "      <td>0.01928</td>\n",
       "      <td>0.002767</td>\n",
       "      <td>9.923044</td>\n",
       "      <td>-0.016513</td>\n",
       "    </tr>\n",
       "    <tr>\n",
       "      <th>242</th>\n",
       "      <td>0.01920</td>\n",
       "      <td>0.002667</td>\n",
       "      <td>9.947595</td>\n",
       "      <td>-0.016533</td>\n",
       "    </tr>\n",
       "    <tr>\n",
       "      <th>230</th>\n",
       "      <td>0.01894</td>\n",
       "      <td>0.002400</td>\n",
       "      <td>10.063828</td>\n",
       "      <td>-0.016540</td>\n",
       "    </tr>\n",
       "    <tr>\n",
       "      <th>232</th>\n",
       "      <td>0.01898</td>\n",
       "      <td>0.002433</td>\n",
       "      <td>10.047294</td>\n",
       "      <td>-0.016547</td>\n",
       "    </tr>\n",
       "    <tr>\n",
       "      <th>244</th>\n",
       "      <td>0.01927</td>\n",
       "      <td>0.002700</td>\n",
       "      <td>9.929296</td>\n",
       "      <td>-0.016570</td>\n",
       "    </tr>\n",
       "  </tbody>\n",
       "</table>\n",
       "<p>20186 rows × 4 columns</p>\n",
       "</div>"
      ],
      "text/plain": [
       "           fpr       tpr  thresholds  youden-index\n",
       "29935  0.41410  0.817300    0.801011      0.403200\n",
       "29899  0.41335  0.816533    0.802276      0.403183\n",
       "29897  0.41332  0.816500    0.802319      0.403180\n",
       "29931  0.41399  0.817167    0.801216      0.403177\n",
       "29933  0.41406  0.817233    0.801063      0.403173\n",
       "...        ...       ...         ...           ...\n",
       "246    0.01928  0.002767    9.923044     -0.016513\n",
       "242    0.01920  0.002667    9.947595     -0.016533\n",
       "230    0.01894  0.002400   10.063828     -0.016540\n",
       "232    0.01898  0.002433   10.047294     -0.016547\n",
       "244    0.01927  0.002700    9.929296     -0.016570\n",
       "\n",
       "[20186 rows x 4 columns]"
      ]
     },
     "execution_count": 23,
     "metadata": {},
     "output_type": "execute_result"
    }
   ],
   "source": [
    "fpr, tpr, thresholds = roc_curve(y_val, val_anomaly_scores_AmAm)\n",
    "df_val_roc = pd.DataFrame({'fpr':fpr, 'tpr':tpr, 'thresholds':thresholds})\n",
    "df_val_roc['youden-index'] = df_val_roc['tpr'] - df_val_roc['fpr']\n",
    "df_val_roc.sort_values('youden-index', ascending=False).drop_duplicates('fpr')"
   ]
  },
  {
   "cell_type": "code",
   "execution_count": 24,
   "metadata": {},
   "outputs": [],
   "source": [
    "BEST_VALIDATION_THRESHOLD_AMAM = 0.801011\t"
   ]
  },
  {
   "cell_type": "code",
   "execution_count": 25,
   "metadata": {},
   "outputs": [
    {
     "data": {
      "text/plain": [
       "{'acc': 0.7824076923076924,\n",
       " 'tpr': 0.5715,\n",
       " 'fpr': 0.15432,\n",
       " 'precision': 0.5262915553918409,\n",
       " 'f1-score': 0.5479649072342874}"
      ]
     },
     "execution_count": 25,
     "metadata": {},
     "output_type": "execute_result"
    }
   ],
   "source": [
    "get_overall_metrics(y_val, val_anomaly_scores_AxAm > BEST_VALIDATION_THRESHOLD_AMAM)"
   ]
  },
  {
   "cell_type": "markdown",
   "metadata": {},
   "source": [
    "### Test set"
   ]
  },
  {
   "cell_type": "code",
   "execution_count": 26,
   "metadata": {},
   "outputs": [
    {
     "data": {
      "image/png": "[encoded data removed]",
      "text/plain": [
       "<Figure size 640x480 with 1 Axes>"
      ]
     },
     "metadata": {},
     "output_type": "display_data"
    }
   ],
   "source": [
    "test_anomaly_scores_AmAm = get_autoencoder_anomaly_scores(model_ae_AmAm, X_test_AmAm_norm)\n",
    "plot_roc_curve(y_test, test_anomaly_scores_AmAm)"
   ]
  },
  {
   "cell_type": "code",
   "execution_count": 27,
   "metadata": {},
   "outputs": [
    {
     "data": {
      "text/plain": [
       "{'acc': 0.8878,\n",
       " 'tpr': 0.591,\n",
       " 'fpr': 0.07922222222222222,\n",
       " 'precision': 0.4532208588957055,\n",
       " 'f1-score': 0.5130208333333334}"
      ]
     },
     "execution_count": 27,
     "metadata": {},
     "output_type": "execute_result"
    }
   ],
   "source": [
    "get_overall_metrics(y_test, test_anomaly_scores_AxAm > BEST_VALIDATION_THRESHOLD_AMAM)"
   ]
  },
  {
   "cell_type": "code",
   "execution_count": 28,
   "metadata": {},
   "outputs": [],
   "source": [
    "# best_possible_test_threshold\n",
    "\n",
    "fpr, tpr, thresholds = roc_curve(y_test, test_anomaly_scores_AmAm)\n",
    "df_val_roc = pd.DataFrame({'fpr':fpr, 'tpr':tpr, 'thresholds':thresholds})\n",
    "df_val_roc['youden-index'] = df_val_roc['tpr'] - df_val_roc['fpr']\n",
    "best_possible_test_threshold_AmAm = df_val_roc.sort_values('youden-index', ascending=False).drop_duplicates('fpr').iloc[0]['thresholds']"
   ]
  },
  {
   "cell_type": "code",
   "execution_count": 29,
   "metadata": {},
   "outputs": [
    {
     "data": {
      "text/plain": [
       "{'acc': 0.8902,\n",
       " 'tpr': 0.576,\n",
       " 'fpr': 0.0748888888888889,\n",
       " 'precision': 0.4608,\n",
       " 'f1-score': 0.5119999999999999}"
      ]
     },
     "execution_count": 29,
     "metadata": {},
     "output_type": "execute_result"
    }
   ],
   "source": [
    "get_overall_metrics(y_test, test_anomaly_scores_AxAm > best_possible_test_threshold_AmAm)"
   ]
  },
  {
   "cell_type": "code",
   "execution_count": null,
   "metadata": {},
   "outputs": [],
   "source": []
  }
 ],
 "metadata": {
  "kernelspec": {
   "display_name": "ae_dga_detection",
   "language": "python",
   "name": "python3"
  },
  "language_info": {
   "codemirror_mode": {
    "name": "ipython",
    "version": 3
   },
   "file_extension": ".py",
   "mimetype": "text/x-python",
   "name": "python",
   "nbconvert_exporter": "python",
   "pygments_lexer": "ipython3",
   "version": "3.12.2"
  }
 },
 "nbformat": 4,
 "nbformat_minor": 2
}
